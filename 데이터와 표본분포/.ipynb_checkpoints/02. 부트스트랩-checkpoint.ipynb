{
 "cells": [
  {
   "cell_type": "code",
   "execution_count": 1,
   "id": "d44a14fe",
   "metadata": {},
   "outputs": [],
   "source": [
    "import pandas as pd\n",
    "from sklearn.utils import resample\n",
    "import matplotlib.pyplot as plt\n",
    "import seaborn as sns"
   ]
  },
  {
   "cell_type": "code",
   "execution_count": 3,
   "id": "53733e6b",
   "metadata": {},
   "outputs": [],
   "source": [
    "loans_income = pd.read_csv('../../data/loans_income.csv', squeeze=True)"
   ]
  },
  {
   "cell_type": "code",
   "execution_count": 4,
   "id": "92ae3e8b",
   "metadata": {},
   "outputs": [
    {
     "data": {
      "text/plain": [
       "0         67000\n",
       "1         52000\n",
       "2        100000\n",
       "3         78762\n",
       "4         37041\n",
       "          ...  \n",
       "49995     40000\n",
       "49996     54000\n",
       "49997     50000\n",
       "49998     82000\n",
       "49999     70000\n",
       "Name: x, Length: 50000, dtype: int64"
      ]
     },
     "execution_count": 4,
     "metadata": {},
     "output_type": "execute_result"
    }
   ],
   "source": [
    "loans_income"
   ]
  },
  {
   "cell_type": "code",
   "execution_count": 7,
   "id": "2ede785d",
   "metadata": {},
   "outputs": [
    {
     "name": "stdout",
     "output_type": "stream",
     "text": [
      "Bootstrap Statistics:\n",
      "original: 68760.51844\n",
      "bias: -8.792583119997289\n",
      "std. error: 149.34124586627144\n"
     ]
    }
   ],
   "source": [
    "# 부트스트랩은 포본크기가 작은 것을 보완하기 위한 것이 아니다.새 데이터를 만드는 것도 아니며, 기존 데이터 집합의 빈곳을 채우는 것도 아니다.\n",
    "# 모집단에서 추가적으로 표본을 뽑는다고 할때, 그 표본이 원래의 표본과 얼마나 비슷한지를 알려줄 뿐이다.\n",
    "results = []\n",
    "for nrepeat in range(1000):\n",
    "    sample = resample(loans_income, n_samples=len(loans_income))  # 복원 추출\n",
    "    results.append(sample.mean())\n",
    "\n",
    "results = pd.Series(results)\n",
    "print('Bootstrap Statistics:')\n",
    "print(f'original: {loans_income.mean()}')\n",
    "print(f'bias: {results.mean() - loans_income.mean()}')\n",
    "print(f'std. error: {results.std()}')"
   ]
  },
  {
   "cell_type": "code",
   "execution_count": 9,
   "id": "c671e97f",
   "metadata": {},
   "outputs": [
    {
     "data": {
      "image/png": "[encoded data removed]",
      "text/plain": [
       "<Figure size 360x360 with 1 Axes>"
      ]
     },
     "metadata": {
      "needs_background": "light"
     },
     "output_type": "display_data"
    }
   ],
   "source": [
    "# 부트스트랩 표본분포\n",
    "fig, ax = plt.subplots(figsize=(5, 5))\n",
    "ax = sns.histplot(data=results)\n",
    "\n",
    "fig.tight_layout()\n",
    "plt.show()"
   ]
  }
 ],
 "metadata": {
  "kernelspec": {
   "display_name": "Python 3 (ipykernel)",
   "language": "python",
   "name": "python3"
  },
  "language_info": {
   "codemirror_mode": {
    "name": "ipython",
    "version": 3
   },
   "file_extension": ".py",
   "mimetype": "text/x-python",
   "name": "python",
   "nbconvert_exporter": "python",
   "pygments_lexer": "ipython3",
   "version": "3.8.5"
  }
 },
 "nbformat": 4,
 "nbformat_minor": 5
}
