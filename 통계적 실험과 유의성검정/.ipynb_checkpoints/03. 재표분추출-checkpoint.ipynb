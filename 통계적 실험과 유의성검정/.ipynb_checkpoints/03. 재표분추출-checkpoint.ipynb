{
 "cells": [
  {
   "cell_type": "markdown",
   "id": "43e45164",
   "metadata": {},
   "source": [
    "# 재표본추출(resampling)\n",
    "- 랜덤한 변동성을 알아보자는 일반적인 목표를 가지고, 관찰된 데이터의 값에서 표본을 반복적으로 추출\n",
    "- 부트스트랩: 추정의 신뢰성을 평가하는데 사용\n",
    "- 순열검정: 두 개 이상의 그룹과 관련된 가설을 검증"
   ]
  },
  {
   "cell_type": "markdown",
   "id": "bae3c90f",
   "metadata": {},
   "source": [
    "## 순열검정(permutation test)\n",
    "- 두개 이상의 표본이 관여되며, A/B 또는 기타 가설검정을 위해 사용되는 그룹\n",
    "- permute는 순서를 변경 한다는 의미\n",
    "<br><br><순열 절차>\n",
    "1. 여러그룹의 결과를 단일 데이터 집합으로 결합\n",
    "2. 결합된 데이터를 작 섞은 후, 그룹 A와 동일한 크기의 표본을 무작위로(비복원) 추출\n",
    "3. 나머지 데이터에서 그룹 B와 동일한 크기의 샘플을 무작위로(비복원) 추출\n",
    "4. C, D 등의 그룹에 대해서도 동일한 작업을 수행\n",
    "5. 원래 샘플에 대해 구한 통계량 또는 추정치가 무엇이었든간에 지금 추출한 재표본에 대해 모두 다시 계산하고 기록(이것이 한번의 순열 과정)\n",
    "6. 앞선 단계들을 R번 반복하여 검정통계량 순열분포를 얻는다.<br>\n",
    "=> 관찰된 차이가 순열분포 바깥에 있다면, 통계적으로 유의미하다(statistically significant)"
   ]
  },
  {
   "cell_type": "code",
   "execution_count": 6,
   "id": "ea37ed53",
   "metadata": {},
   "outputs": [],
   "source": [
    "import pandas as pd\n",
    "import matplotlib.pyplot as plt\n",
    "import seaborn as sns\n",
    "import numpy as np\n",
    "import random"
   ]
  },
  {
   "cell_type": "code",
   "execution_count": 2,
   "id": "80e2f630",
   "metadata": {},
   "outputs": [],
   "source": [
    "session_times = pd.read_csv('../../data/web_page_data.csv')\n",
    "session_times['Time'] = session_times['Time']*100"
   ]
  },
  {
   "cell_type": "code",
   "execution_count": 3,
   "id": "590e9d7e",
   "metadata": {
    "scrolled": true
   },
   "outputs": [
    {
     "data": {
      "text/html": [
       "<div>\n",
       "<style scoped>\n",
       "    .dataframe tbody tr th:only-of-type {\n",
       "        vertical-align: middle;\n",
       "    }\n",
       "\n",
       "    .dataframe tbody tr th {\n",
       "        vertical-align: top;\n",
       "    }\n",
       "\n",
       "    .dataframe thead th {\n",
       "        text-align: right;\n",
       "    }\n",
       "</style>\n",
       "<table border=\"1\" class=\"dataframe\">\n",
       "  <thead>\n",
       "    <tr style=\"text-align: right;\">\n",
       "      <th></th>\n",
       "      <th>Page</th>\n",
       "      <th>Time</th>\n",
       "    </tr>\n",
       "  </thead>\n",
       "  <tbody>\n",
       "    <tr>\n",
       "      <th>0</th>\n",
       "      <td>Page A</td>\n",
       "      <td>21.0</td>\n",
       "    </tr>\n",
       "    <tr>\n",
       "      <th>1</th>\n",
       "      <td>Page B</td>\n",
       "      <td>253.0</td>\n",
       "    </tr>\n",
       "    <tr>\n",
       "      <th>2</th>\n",
       "      <td>Page A</td>\n",
       "      <td>35.0</td>\n",
       "    </tr>\n",
       "    <tr>\n",
       "      <th>3</th>\n",
       "      <td>Page B</td>\n",
       "      <td>71.0</td>\n",
       "    </tr>\n",
       "    <tr>\n",
       "      <th>4</th>\n",
       "      <td>Page A</td>\n",
       "      <td>67.0</td>\n",
       "    </tr>\n",
       "  </tbody>\n",
       "</table>\n",
       "</div>"
      ],
      "text/plain": [
       "     Page   Time\n",
       "0  Page A   21.0\n",
       "1  Page B  253.0\n",
       "2  Page A   35.0\n",
       "3  Page B   71.0\n",
       "4  Page A   67.0"
      ]
     },
     "execution_count": 3,
     "metadata": {},
     "output_type": "execute_result"
    }
   ],
   "source": [
    "session_times.head()"
   ]
  },
  {
   "cell_type": "code",
   "execution_count": 4,
   "id": "ca86363d",
   "metadata": {},
   "outputs": [
    {
     "data": {
      "image/png": "[encoded data removed]",
      "text/plain": [
       "<Figure size 504x360 with 1 Axes>"
      ]
     },
     "metadata": {
      "needs_background": "light"
     },
     "output_type": "display_data"
    }
   ],
   "source": [
    "# Page A, B 의 세션시간 비교\n",
    "fig, ax = plt.subplots(figsize=(7, 5))\n",
    "sns.boxplot(data=session_times, x='Page', y='Time', color='white', linewidth=2, ax=ax)\n",
    "plt.show()"
   ]
  },
  {
   "cell_type": "code",
   "execution_count": 5,
   "id": "fd409d3f",
   "metadata": {},
   "outputs": [
    {
     "name": "stdout",
     "output_type": "stream",
     "text": [
      "두 그룹의 평균 차이: 35.67\n"
     ]
    }
   ],
   "source": [
    "# 두 그룹의 평균 비교\n",
    "mean_a = session_times[session_times.Page == 'Page A'].Time.mean()\n",
    "mean_b = session_times[session_times.Page == 'Page B'].Time.mean()\n",
    "print(f\"두 그룹의 평균 차이: {np.round(mean_b - mean_a, 2)}\")"
   ]
  },
  {
   "cell_type": "code",
   "execution_count": 34,
   "id": "028ff9ba",
   "metadata": {},
   "outputs": [
    {
     "data": {
      "text/plain": [
       "6.523809523809518"
      ]
     },
     "execution_count": 34,
     "metadata": {},
     "output_type": "execute_result"
    }
   ],
   "source": [
    "# 한번의 순열 과정 함수\n",
    "def perm_fun(x, nA, nB):\n",
    "    n = nA + nB\n",
    "    idx_B = set(random.sample(range(n), nB))\n",
    "    idx_A = set(range(n)) - idx_B\n",
    "    return x.loc[idx_B].mean() - x.loc[idx_A].mean()\n",
    "\n",
    "# 함수 테스트\n",
    "nA = len(session_times[session_times.Page == 'Page A'])\n",
    "nB = len(session_times[session_times.Page == 'Page B'])\n",
    "perm_fun(session_times.Time, nA, nB)"
   ]
  },
  {
   "cell_type": "code",
   "execution_count": 37,
   "id": "914a6b54",
   "metadata": {},
   "outputs": [],
   "source": [
    "# 순열을 1000번 수행\n",
    "perm_diffs = [perm_fun(session_times.Time, nA, nB) for _ in range(1000)]"
   ]
  },
  {
   "cell_type": "code",
   "execution_count": 50,
   "id": "e5ccd15b",
   "metadata": {},
   "outputs": [
    {
     "data": {
      "image/png": "[encoded data removed]",
      "text/plain": [
       "<Figure size 360x360 with 1 Axes>"
      ]
     },
     "metadata": {
      "needs_background": "light"
     },
     "output_type": "display_data"
    }
   ],
   "source": [
    "# 실제 관찰된 차이가, 순열분포 범위 내에 있다 => 두 집단의 차이는 통계적으로 유의하지 않다.\n",
    "fig, ax = plt.subplots(figsize=(5, 5))\n",
    "sns.histplot(data=perm_diffs, ax=ax)\n",
    "ax.axvline(x=mean_b-mean_a, color='black', linewidth=2)\n",
    "ax.text((mean_b-mean_a)*1.5, 100, s='Observed\\ndifference', bbox={'facecolor':'white'})\n",
    "ax.set_xlabel('Session time differences (in seconds)')\n",
    "ax.set_ylabel('Frequency')\n",
    "\n",
    "plt.tight_layout()\n",
    "plt.show()"
   ]
  },
  {
   "cell_type": "code",
   "execution_count": 55,
   "id": "5973c335",
   "metadata": {},
   "outputs": [
    {
     "data": {
      "text/plain": [
       "'12.4%'"
      ]
     },
     "execution_count": 55,
     "metadata": {},
     "output_type": "execute_result"
    }
   ],
   "source": [
    "# 순열로 구한 평균이 실제 관찰된 세션 시간의 차이를 넘어서는 경우의 퍼센트\n",
    "str(np.mean(perm_diffs > (mean_b - mean_a))*100) + '%'"
   ]
  }
 ],
 "metadata": {
  "kernelspec": {
   "display_name": "Python 3 (ipykernel)",
   "language": "python",
   "name": "python3"
  },
  "language_info": {
   "codemirror_mode": {
    "name": "ipython",
    "version": 3
   },
   "file_extension": ".py",
   "mimetype": "text/x-python",
   "name": "python",
   "nbconvert_exporter": "python",
   "pygments_lexer": "ipython3",
   "version": "3.8.5"
  }
 },
 "nbformat": 4,
 "nbformat_minor": 5
}
