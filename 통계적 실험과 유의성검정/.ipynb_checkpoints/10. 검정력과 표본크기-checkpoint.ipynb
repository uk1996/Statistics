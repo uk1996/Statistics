{
 "cells": [
  {
   "cell_type": "markdown",
   "id": "47d3b86c",
   "metadata": {},
   "source": [
    "## 용어\n",
    "- 효과크기(effect size): '클릭률의 20% 향상'과 같이 통계 검정을 통해 판단할 수 있는 효과의 최소 크기\n",
    "- 검정력(power): 주어진 표본크기로 주어진 효과크기를 알아낼 확률\n",
    "- 유의수준(significance level): 검증 시 사용할 통계 유의수준"
   ]
  },
  {
   "cell_type": "code",
   "execution_count": 1,
   "id": "406dedcf",
   "metadata": {},
   "outputs": [],
   "source": [
    "import statsmodels.api as sm"
   ]
  },
  {
   "cell_type": "code",
   "execution_count": 4,
   "id": "0e9b4b66",
   "metadata": {},
   "outputs": [
    {
     "name": "stdout",
     "output_type": "stream",
     "text": [
      "Sample Size: 116602.393\n"
     ]
    }
   ],
   "source": [
    "effect_size = sm.stats.proportion_effectsize(0.0121, 0.011) # 효과크기\n",
    "analysis = sm.stats.TTestIndPower()\n",
    "result = analysis.solve_power(effect_size=effect_size, # 효과 크기\n",
    "                              alpha=0.05,              # 유의수준\n",
    "                             power=0.8,                # 검정력\n",
    "                             alternative='larger')\n",
    "print('Sample Size: %.3f' % result)"
   ]
  },
  {
   "cell_type": "code",
   "execution_count": 5,
   "id": "4c3ee841",
   "metadata": {},
   "outputs": [
    {
     "name": "stdout",
     "output_type": "stream",
     "text": [
      "Sample Size: 5488.408\n"
     ]
    }
   ],
   "source": [
    "effect_size = sm.stats.proportion_effectsize(0.0165, 0.011) # 효과크기\n",
    "analysis = sm.stats.TTestIndPower()\n",
    "result = analysis.solve_power(effect_size=effect_size, # 효과 크기\n",
    "                              alpha=0.05,              # 유의수준\n",
    "                             power=0.8,                # 검정력\n",
    "                             alternative='larger')\n",
    "print('Sample Size: %.3f' % result)"
   ]
  }
 ],
 "metadata": {
  "kernelspec": {
   "display_name": "Python 3 (ipykernel)",
   "language": "python",
   "name": "python3"
  },
  "language_info": {
   "codemirror_mode": {
    "name": "ipython",
    "version": 3
   },
   "file_extension": ".py",
   "mimetype": "text/x-python",
   "name": "python",
   "nbconvert_exporter": "python",
   "pygments_lexer": "ipython3",
   "version": "3.8.5"
  }
 },
 "nbformat": 4,
 "nbformat_minor": 5
}
