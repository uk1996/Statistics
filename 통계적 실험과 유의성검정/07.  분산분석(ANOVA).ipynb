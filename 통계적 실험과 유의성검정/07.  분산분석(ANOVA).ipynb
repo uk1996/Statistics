{
 "cells": [
  {
   "cell_type": "markdown",
   "id": "ebb19a11",
   "metadata": {},
   "source": [
    "## 용어\n",
    "- 쌍별 비교(pairwise comparison): 여러 그룹 간의 가설검정\n",
    "- 총괄검정(comnibus test): 여러 그룹 평균들의 전체 분산에 관한 단일 가설검정 => ANOVA\n",
    "- 분산분해(decomposition of variance): 구성 요소 분리. 예를 들면 전체 평균, 처리 평균, 잔차 오차로부터 개별 값들에 대한 기여를 뜻함\n",
    "- F통계량(F-statistic): 그룹 평균 간의 차이가 랜덤 모델에서 예상되는 것에서 벗어나는 정도를 측정하는 표준화된 통계량\n",
    "- ss(sum of squares): 어떤 평균으로부터의 편차들의 제곱합"
   ]
  },
  {
   "cell_type": "markdown",
   "id": "573f90dd",
   "metadata": {},
   "source": [
    "## 분산분석(ANOVA)\n",
    "- 여러 그룹 간의 통계적으로 유의미한 차이를 검정하는 통계적 절차\n",
    "\n",
    "<절차><br>\n",
    "1. 모든 데이터를 한 상자에 모은다\n",
    "2. 각 집단의 표본의 개수를 갖는 집단수만큼의 재표본을 섞어서 추출\n",
    "3. 각 그룹의 평균을 기록\n",
    "4. 각 그룹 평균 사이의 분산을 기록\n",
    "5. 2~4단계를 여러 번 반복\n",
    "<br>\n",
    "- p값: 재표본추출한 분산이 관찰된 변화를 초과한 시간은 어느 정도인가?"
   ]
  },
  {
   "cell_type": "code",
   "execution_count": 10,
   "id": "f7ae4140",
   "metadata": {},
   "outputs": [],
   "source": [
    "import pandas as pd\n",
    "import numpy as np\n",
    "from scipy import stats\n",
    "import statsmodels.api as sm\n",
    "import statsmodels.formula.api as smf\n",
    "import matplotlib.pyplot as plt\n",
    "import seaborn as sns"
   ]
  },
  {
   "cell_type": "code",
   "execution_count": 2,
   "id": "ba67ea3e",
   "metadata": {},
   "outputs": [],
   "source": [
    "four_sessions = pd.read_csv('../../data/four_sessions.csv')"
   ]
  },
  {
   "cell_type": "code",
   "execution_count": 3,
   "id": "40d82cae",
   "metadata": {},
   "outputs": [
    {
     "data": {
      "text/html": [
       "<div>\n",
       "<style scoped>\n",
       "    .dataframe tbody tr th:only-of-type {\n",
       "        vertical-align: middle;\n",
       "    }\n",
       "\n",
       "    .dataframe tbody tr th {\n",
       "        vertical-align: top;\n",
       "    }\n",
       "\n",
       "    .dataframe thead th {\n",
       "        text-align: right;\n",
       "    }\n",
       "</style>\n",
       "<table border=\"1\" class=\"dataframe\">\n",
       "  <thead>\n",
       "    <tr style=\"text-align: right;\">\n",
       "      <th></th>\n",
       "      <th>Page</th>\n",
       "      <th>Time</th>\n",
       "    </tr>\n",
       "  </thead>\n",
       "  <tbody>\n",
       "    <tr>\n",
       "      <th>0</th>\n",
       "      <td>Page 1</td>\n",
       "      <td>164</td>\n",
       "    </tr>\n",
       "    <tr>\n",
       "      <th>1</th>\n",
       "      <td>Page 2</td>\n",
       "      <td>178</td>\n",
       "    </tr>\n",
       "    <tr>\n",
       "      <th>2</th>\n",
       "      <td>Page 3</td>\n",
       "      <td>175</td>\n",
       "    </tr>\n",
       "    <tr>\n",
       "      <th>3</th>\n",
       "      <td>Page 4</td>\n",
       "      <td>155</td>\n",
       "    </tr>\n",
       "    <tr>\n",
       "      <th>4</th>\n",
       "      <td>Page 1</td>\n",
       "      <td>172</td>\n",
       "    </tr>\n",
       "    <tr>\n",
       "      <th>5</th>\n",
       "      <td>Page 2</td>\n",
       "      <td>191</td>\n",
       "    </tr>\n",
       "    <tr>\n",
       "      <th>6</th>\n",
       "      <td>Page 3</td>\n",
       "      <td>193</td>\n",
       "    </tr>\n",
       "    <tr>\n",
       "      <th>7</th>\n",
       "      <td>Page 4</td>\n",
       "      <td>166</td>\n",
       "    </tr>\n",
       "    <tr>\n",
       "      <th>8</th>\n",
       "      <td>Page 1</td>\n",
       "      <td>177</td>\n",
       "    </tr>\n",
       "    <tr>\n",
       "      <th>9</th>\n",
       "      <td>Page 2</td>\n",
       "      <td>182</td>\n",
       "    </tr>\n",
       "    <tr>\n",
       "      <th>10</th>\n",
       "      <td>Page 3</td>\n",
       "      <td>171</td>\n",
       "    </tr>\n",
       "    <tr>\n",
       "      <th>11</th>\n",
       "      <td>Page 4</td>\n",
       "      <td>164</td>\n",
       "    </tr>\n",
       "    <tr>\n",
       "      <th>12</th>\n",
       "      <td>Page 1</td>\n",
       "      <td>156</td>\n",
       "    </tr>\n",
       "    <tr>\n",
       "      <th>13</th>\n",
       "      <td>Page 2</td>\n",
       "      <td>185</td>\n",
       "    </tr>\n",
       "    <tr>\n",
       "      <th>14</th>\n",
       "      <td>Page 3</td>\n",
       "      <td>163</td>\n",
       "    </tr>\n",
       "    <tr>\n",
       "      <th>15</th>\n",
       "      <td>Page 4</td>\n",
       "      <td>170</td>\n",
       "    </tr>\n",
       "    <tr>\n",
       "      <th>16</th>\n",
       "      <td>Page 1</td>\n",
       "      <td>195</td>\n",
       "    </tr>\n",
       "    <tr>\n",
       "      <th>17</th>\n",
       "      <td>Page 2</td>\n",
       "      <td>177</td>\n",
       "    </tr>\n",
       "    <tr>\n",
       "      <th>18</th>\n",
       "      <td>Page 3</td>\n",
       "      <td>176</td>\n",
       "    </tr>\n",
       "    <tr>\n",
       "      <th>19</th>\n",
       "      <td>Page 4</td>\n",
       "      <td>168</td>\n",
       "    </tr>\n",
       "  </tbody>\n",
       "</table>\n",
       "</div>"
      ],
      "text/plain": [
       "      Page  Time\n",
       "0   Page 1   164\n",
       "1   Page 2   178\n",
       "2   Page 3   175\n",
       "3   Page 4   155\n",
       "4   Page 1   172\n",
       "5   Page 2   191\n",
       "6   Page 3   193\n",
       "7   Page 4   166\n",
       "8   Page 1   177\n",
       "9   Page 2   182\n",
       "10  Page 3   171\n",
       "11  Page 4   164\n",
       "12  Page 1   156\n",
       "13  Page 2   185\n",
       "14  Page 3   163\n",
       "15  Page 4   170\n",
       "16  Page 1   195\n",
       "17  Page 2   177\n",
       "18  Page 3   176\n",
       "19  Page 4   168"
      ]
     },
     "execution_count": 3,
     "metadata": {},
     "output_type": "execute_result"
    }
   ],
   "source": [
    "four_sessions"
   ]
  },
  {
   "cell_type": "code",
   "execution_count": 4,
   "id": "a0916210",
   "metadata": {},
   "outputs": [
    {
     "data": {
      "image/png": "[encoded data removed]",
      "text/plain": [
       "<Figure size 720x360 with 1 Axes>"
      ]
     },
     "metadata": {
      "needs_background": "light"
     },
     "output_type": "display_data"
    }
   ],
   "source": [
    "# 네 그룹간의 차이 시각적으로 확인하기(box plot)\n",
    "fig, ax = plt.subplots(figsize=(10, 5))\n",
    "ax = sns.boxplot(data=four_sessions, x='Page', y='Time', ax=ax, color='white')\n",
    "\n",
    "plt.tight_layout()\n",
    "plt.show()"
   ]
  },
  {
   "cell_type": "code",
   "execution_count": 5,
   "id": "6c649d83",
   "metadata": {},
   "outputs": [
    {
     "name": "stdout",
     "output_type": "stream",
     "text": [
      "pvalue: 0.08066666666666666\n"
     ]
    },
    {
     "data": {
      "image/png": "[encoded data removed]",
      "text/plain": [
       "<Figure size 360x360 with 1 Axes>"
      ]
     },
     "metadata": {
      "needs_background": "light"
     },
     "output_type": "display_data"
    }
   ],
   "source": [
    "# 순열검정\n",
    "observed_variance = four_sessions.groupby('Page').mean().var()[0] # 실제 관측된 집단 평균간의 분산\n",
    "\n",
    "def perm_test(df):\n",
    "    df = df.copy()\n",
    "    df['Time'] = np.random.permutation(four_sessions['Time'].values)\n",
    "    return df.groupby('Page').mean().var()[0]\n",
    "\n",
    "perm_variance = [perm_test(four_sessions) for _ in range(3000)]\n",
    "p_value = np.mean([var > observed_variance for var in perm_variance])\n",
    "print(f\"pvalue: {p_value}\")\n",
    "\n",
    "fig, ax = plt.subplots(figsize=(5, 5))\n",
    "sns.histplot(data=perm_variance, ax=ax)\n",
    "ax.axvline(x=observed_variance, color='black', linewidth=2)\n",
    "ax.text(60, 200, s='Observed\\nvariance', bbox={'facecolor':'white'})\n",
    "ax.set_xlabel('Variance')\n",
    "\n",
    "plt.tight_layout()\n",
    "plt.show()"
   ]
  },
  {
   "cell_type": "markdown",
   "id": "00d905e5",
   "metadata": {},
   "source": [
    "## F 통계량(F-statistic)\n",
    "- F 통계량을 기반으로 ANOVA 통계 검정을 할 수 있다."
   ]
  },
  {
   "cell_type": "code",
   "execution_count": 11,
   "id": "8290eb12",
   "metadata": {},
   "outputs": [
    {
     "name": "stdout",
     "output_type": "stream",
     "text": [
      "            df  sum_sq     mean_sq         F    PR(>F)\n",
      "Page       3.0   831.4  277.133333  2.739825  0.077586\n",
      "Residual  16.0  1618.4  101.150000       NaN       NaN\n"
     ]
    }
   ],
   "source": [
    "model = smf.ols('Time ~ Page', data=four_sessions).fit()\n",
    "                \n",
    "aov_table = sm.stats.anova_lm(model)\n",
    "print(aov_table)"
   ]
  },
  {
   "cell_type": "code",
   "execution_count": 6,
   "id": "d7e6daab",
   "metadata": {},
   "outputs": [
    {
     "name": "stdout",
     "output_type": "stream",
     "text": [
      "F-Statistic: 2.7398\n",
      "p-value: 0.0776\n"
     ]
    }
   ],
   "source": [
    "res = stats.f_oneway(four_sessions[four_sessions.Page == 'Page 1'].Time,\n",
    "                     four_sessions[four_sessions.Page == 'Page 2'].Time,\n",
    "                     four_sessions[four_sessions.Page == 'Page 3'].Time,\n",
    "                     four_sessions[four_sessions.Page == 'Page 4'].Time)\n",
    "print(f'F-Statistic: {res.statistic:.4f}')\n",
    "print(f'p-value: {res.pvalue:.4f}')"
   ]
  }
 ],
 "metadata": {
  "kernelspec": {
   "display_name": "Python 3 (ipykernel)",
   "language": "python",
   "name": "python3"
  },
  "language_info": {
   "codemirror_mode": {
    "name": "ipython",
    "version": 3
   },
   "file_extension": ".py",
   "mimetype": "text/x-python",
   "name": "python",
   "nbconvert_exporter": "python",
   "pygments_lexer": "ipython3",
   "version": "3.8.5"
  }
 },
 "nbformat": 4,
 "nbformat_minor": 5
}
