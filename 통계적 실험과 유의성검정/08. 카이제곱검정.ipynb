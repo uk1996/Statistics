{
 "cells": [
  {
   "cell_type": "markdown",
   "id": "f31f2c96",
   "metadata": {},
   "source": [
    "## 용어\n",
    "- 카이제곱 통계량(chi-square statistic): 기댓값으로부터 어떤 관찰값까지의 거리를 나타내는 측정치\n",
    "- 기댓값(expectation): 어떤 가정(보통 귀무가설)으로부터 데이터가 발생할 때, 그에 대해 기대하는 정도\n",
    "- d.f.(degree of freedom): 자유도"
   ]
  },
  {
   "cell_type": "markdown",
   "id": "d59d3d28",
   "metadata": {},
   "source": [
    "## 카이제곱검정\n",
    "- 횟수 관련 데이터에 주로 사용되며 예상되는 분포에 얼마나 잘 맞는지를 검정\n",
    "\n",
    "<절차><br>\n",
    "1. 34개의 1(클릭한 경우)과 2966개의 0(클릭하지 않은 경우)이 들어 있는 상자를 만든다.\n",
    "2. 상자의 내용물을 섞은 다음 1000개의 표본을 세 번씩 가져와서 각각의 클릭수를 계산한다.\n",
    "3. 이렇게 얻은 횟수와 기대한 횟수의 차이를 제곱해서 합산한다.\n",
    "4. 2~3 단계를 1000번 반복한다.\n",
    "<br>\n",
    "- p값: 재표본추출을 통해 얻은 편차의 제곱합이 얼마나 자주 관측값을 초과하는가?"
   ]
  },
  {
   "cell_type": "code",
   "execution_count": 1,
   "id": "d7f611a6",
   "metadata": {},
   "outputs": [],
   "source": [
    "import pandas as pd\n",
    "import numpy as np\n",
    "from scipy import stats\n",
    "import matplotlib.pyplot as plt\n",
    "import seaborn as sns\n",
    "import random"
   ]
  },
  {
   "cell_type": "code",
   "execution_count": 2,
   "id": "80498a8e",
   "metadata": {},
   "outputs": [],
   "source": [
    "click_rate = pd.read_csv('../../data/click_rates.csv')"
   ]
  },
  {
   "cell_type": "code",
   "execution_count": 3,
   "id": "8ab4ddc0",
   "metadata": {},
   "outputs": [
    {
     "data": {
      "text/html": [
       "<div>\n",
       "<style scoped>\n",
       "    .dataframe tbody tr th:only-of-type {\n",
       "        vertical-align: middle;\n",
       "    }\n",
       "\n",
       "    .dataframe tbody tr th {\n",
       "        vertical-align: top;\n",
       "    }\n",
       "\n",
       "    .dataframe thead th {\n",
       "        text-align: right;\n",
       "    }\n",
       "</style>\n",
       "<table border=\"1\" class=\"dataframe\">\n",
       "  <thead>\n",
       "    <tr style=\"text-align: right;\">\n",
       "      <th></th>\n",
       "      <th>Headline</th>\n",
       "      <th>Click</th>\n",
       "      <th>Rate</th>\n",
       "    </tr>\n",
       "  </thead>\n",
       "  <tbody>\n",
       "    <tr>\n",
       "      <th>0</th>\n",
       "      <td>Headline A</td>\n",
       "      <td>Click</td>\n",
       "      <td>14</td>\n",
       "    </tr>\n",
       "    <tr>\n",
       "      <th>1</th>\n",
       "      <td>Headline A</td>\n",
       "      <td>No-click</td>\n",
       "      <td>986</td>\n",
       "    </tr>\n",
       "    <tr>\n",
       "      <th>2</th>\n",
       "      <td>Headline B</td>\n",
       "      <td>Click</td>\n",
       "      <td>8</td>\n",
       "    </tr>\n",
       "    <tr>\n",
       "      <th>3</th>\n",
       "      <td>Headline B</td>\n",
       "      <td>No-click</td>\n",
       "      <td>992</td>\n",
       "    </tr>\n",
       "    <tr>\n",
       "      <th>4</th>\n",
       "      <td>Headline C</td>\n",
       "      <td>Click</td>\n",
       "      <td>12</td>\n",
       "    </tr>\n",
       "    <tr>\n",
       "      <th>5</th>\n",
       "      <td>Headline C</td>\n",
       "      <td>No-click</td>\n",
       "      <td>988</td>\n",
       "    </tr>\n",
       "  </tbody>\n",
       "</table>\n",
       "</div>"
      ],
      "text/plain": [
       "     Headline     Click  Rate\n",
       "0  Headline A     Click    14\n",
       "1  Headline A  No-click   986\n",
       "2  Headline B     Click     8\n",
       "3  Headline B  No-click   992\n",
       "4  Headline C     Click    12\n",
       "5  Headline C  No-click   988"
      ]
     },
     "execution_count": 3,
     "metadata": {},
     "output_type": "execute_result"
    }
   ],
   "source": [
    "click_rate"
   ]
  },
  {
   "cell_type": "code",
   "execution_count": 4,
   "id": "06893bfe",
   "metadata": {},
   "outputs": [
    {
     "data": {
      "text/html": [
       "<div>\n",
       "<style scoped>\n",
       "    .dataframe tbody tr th:only-of-type {\n",
       "        vertical-align: middle;\n",
       "    }\n",
       "\n",
       "    .dataframe tbody tr th {\n",
       "        vertical-align: top;\n",
       "    }\n",
       "\n",
       "    .dataframe thead th {\n",
       "        text-align: right;\n",
       "    }\n",
       "</style>\n",
       "<table border=\"1\" class=\"dataframe\">\n",
       "  <thead>\n",
       "    <tr style=\"text-align: right;\">\n",
       "      <th>Headline</th>\n",
       "      <th>Headline A</th>\n",
       "      <th>Headline B</th>\n",
       "      <th>Headline C</th>\n",
       "    </tr>\n",
       "    <tr>\n",
       "      <th>Click</th>\n",
       "      <th></th>\n",
       "      <th></th>\n",
       "      <th></th>\n",
       "    </tr>\n",
       "  </thead>\n",
       "  <tbody>\n",
       "    <tr>\n",
       "      <th>Click</th>\n",
       "      <td>14</td>\n",
       "      <td>8</td>\n",
       "      <td>12</td>\n",
       "    </tr>\n",
       "    <tr>\n",
       "      <th>No-click</th>\n",
       "      <td>986</td>\n",
       "      <td>992</td>\n",
       "      <td>988</td>\n",
       "    </tr>\n",
       "  </tbody>\n",
       "</table>\n",
       "</div>"
      ],
      "text/plain": [
       "Headline  Headline A  Headline B  Headline C\n",
       "Click                                       \n",
       "Click             14           8          12\n",
       "No-click         986         992         988"
      ]
     },
     "execution_count": 4,
     "metadata": {},
     "output_type": "execute_result"
    }
   ],
   "source": [
    "# 서로 다른 3가지 헤드라인에 대한 웹 테스트 결과\n",
    "clicks = click_rate.pivot_table(index='Click', columns='Headline', values='Rate')\n",
    "clicks"
   ]
  },
  {
   "cell_type": "code",
   "execution_count": 5,
   "id": "90ba578a",
   "metadata": {},
   "outputs": [
    {
     "data": {
      "text/html": [
       "<div>\n",
       "<style scoped>\n",
       "    .dataframe tbody tr th:only-of-type {\n",
       "        vertical-align: middle;\n",
       "    }\n",
       "\n",
       "    .dataframe tbody tr th {\n",
       "        vertical-align: top;\n",
       "    }\n",
       "\n",
       "    .dataframe thead th {\n",
       "        text-align: right;\n",
       "    }\n",
       "</style>\n",
       "<table border=\"1\" class=\"dataframe\">\n",
       "  <thead>\n",
       "    <tr style=\"text-align: right;\">\n",
       "      <th></th>\n",
       "      <th>Headline A</th>\n",
       "      <th>Headline B</th>\n",
       "      <th>Headline C</th>\n",
       "    </tr>\n",
       "    <tr>\n",
       "      <th>Click</th>\n",
       "      <th></th>\n",
       "      <th></th>\n",
       "      <th></th>\n",
       "    </tr>\n",
       "  </thead>\n",
       "  <tbody>\n",
       "    <tr>\n",
       "      <th>Click</th>\n",
       "      <td>11.333333</td>\n",
       "      <td>11.333333</td>\n",
       "      <td>11.333333</td>\n",
       "    </tr>\n",
       "    <tr>\n",
       "      <th>No-click</th>\n",
       "      <td>988.666667</td>\n",
       "      <td>988.666667</td>\n",
       "      <td>988.666667</td>\n",
       "    </tr>\n",
       "  </tbody>\n",
       "</table>\n",
       "</div>"
      ],
      "text/plain": [
       "          Headline A  Headline B  Headline C\n",
       "Click                                       \n",
       "Click      11.333333   11.333333   11.333333\n",
       "No-click  988.666667  988.666667  988.666667"
      ]
     },
     "execution_count": 5,
     "metadata": {},
     "output_type": "execute_result"
    }
   ],
   "source": [
    "# 3가지 헤드라인이 모두 같은 클릭률을 갖는다고 가정했을 때의 기댓값(귀무가설)\n",
    "row_average = clicks.mean(axis=1)\n",
    "expectation = pd.DataFrame({\n",
    "    'Headline A': row_average,\n",
    "    'Headline B': row_average,\n",
    "    'Headline C': row_average,\n",
    "})\n",
    "expectation"
   ]
  },
  {
   "cell_type": "code",
   "execution_count": 6,
   "id": "8c2c9232",
   "metadata": {},
   "outputs": [
    {
     "data": {
      "text/html": [
       "<div>\n",
       "<style scoped>\n",
       "    .dataframe tbody tr th:only-of-type {\n",
       "        vertical-align: middle;\n",
       "    }\n",
       "\n",
       "    .dataframe tbody tr th {\n",
       "        vertical-align: top;\n",
       "    }\n",
       "\n",
       "    .dataframe thead th {\n",
       "        text-align: right;\n",
       "    }\n",
       "</style>\n",
       "<table border=\"1\" class=\"dataframe\">\n",
       "  <thead>\n",
       "    <tr style=\"text-align: right;\">\n",
       "      <th>Headline</th>\n",
       "      <th>Headline A</th>\n",
       "      <th>Headline B</th>\n",
       "      <th>Headline C</th>\n",
       "    </tr>\n",
       "    <tr>\n",
       "      <th>Click</th>\n",
       "      <th></th>\n",
       "      <th></th>\n",
       "      <th></th>\n",
       "    </tr>\n",
       "  </thead>\n",
       "  <tbody>\n",
       "    <tr>\n",
       "      <th>Click</th>\n",
       "      <td>0.792</td>\n",
       "      <td>-0.990</td>\n",
       "      <td>0.198</td>\n",
       "    </tr>\n",
       "    <tr>\n",
       "      <th>No-click</th>\n",
       "      <td>-0.085</td>\n",
       "      <td>0.106</td>\n",
       "      <td>-0.021</td>\n",
       "    </tr>\n",
       "  </tbody>\n",
       "</table>\n",
       "</div>"
      ],
      "text/plain": [
       "Headline  Headline A  Headline B  Headline C\n",
       "Click                                       \n",
       "Click          0.792      -0.990       0.198\n",
       "No-click      -0.085       0.106      -0.021"
      ]
     },
     "execution_count": 6,
     "metadata": {},
     "output_type": "execute_result"
    }
   ],
   "source": [
    "# 피어슨 잔차(R=(관측값 - 기대값)/기대값**(1/2))\n",
    "residual = (clicks-expectation)/np.sqrt(expectation)\n",
    "residual.round(3)"
   ]
  },
  {
   "cell_type": "code",
   "execution_count": 7,
   "id": "51d5b5e5",
   "metadata": {},
   "outputs": [
    {
     "data": {
      "text/plain": [
       "1.666"
      ]
     },
     "execution_count": 7,
     "metadata": {},
     "output_type": "execute_result"
    }
   ],
   "source": [
    "# 카이제곱 통계량\n",
    "x_square_statistic = np.square(residual).values.sum()\n",
    "x_square_statistic.round(3)"
   ]
  },
  {
   "cell_type": "code",
   "execution_count": 8,
   "id": "07b4d816",
   "metadata": {},
   "outputs": [
    {
     "name": "stdout",
     "output_type": "stream",
     "text": [
      "Observed chi2: 1.6659\n",
      "Resampled p-value: 0.4960\n"
     ]
    },
    {
     "data": {
      "image/png": "[encoded data removed]",
      "text/plain": [
       "<Figure size 360x360 with 1 Axes>"
      ]
     },
     "metadata": {
      "needs_background": "light"
     },
     "output_type": "display_data"
    }
   ],
   "source": [
    "box = [1]*34\n",
    "box.extend([0]*2966)\n",
    "random.shuffle(box)\n",
    "\n",
    "def perm_fun(box, expectation):\n",
    "    sample_clicks = [sum(random.sample(box, 1000)),\n",
    "                     sum(random.sample(box, 1000)),\n",
    "                     sum(random.sample(box, 1000))]\n",
    "    sample_nonclicks = [1000 - n for n in sample_clicks]\n",
    "    clicks_random = pd.DataFrame(columns=['Headline A', 'Headline B', 'Headline C'])\n",
    "    clicks_random.loc['Click'] = sample_clicks\n",
    "    clicks_random.loc['No-click'] = sample_nonclicks\n",
    "    residual = (clicks_random - expectation)/np.sqrt(expectation)\n",
    "    x_square_statistic = np.square(residual).values.sum()\n",
    "    return x_square_statistic\n",
    "\n",
    "x_square_statistic_random = [perm_fun(box, expectation) for _ in range(1000)]\n",
    "resampled_p_value = np.mean([x_square_random > x_square_statistic for x_square_random in x_square_statistic_random])\n",
    "print(f'Observed chi2: {x_square_statistic:.4f}')\n",
    "print(f'Resampled p-value: {resampled_p_value:.4f}')\n",
    "\n",
    "fig, ax = plt.subplots(figsize=(5, 5))\n",
    "sns.histplot(data=x_square_statistic_random, ax=ax)\n",
    "ax.axvline(x=x_square_statistic, color='black', linewidth=2)\n",
    "ax.text(3, 120, s='Observed\\nvariance', bbox={'facecolor':'white'})\n",
    "ax.set_xlabel('X_square_statistic')\n",
    "\n",
    "plt.tight_layout()\n",
    "plt.show()"
   ]
  },
  {
   "cell_type": "markdown",
   "id": "1e0e7a21",
   "metadata": {},
   "source": [
    "## 카이제곱분포"
   ]
  },
  {
   "cell_type": "code",
   "execution_count": 9,
   "id": "494b0877",
   "metadata": {},
   "outputs": [
    {
     "data": {
      "image/png": "[encoded data removed]",
      "text/plain": [
       "<Figure size 288x180 with 1 Axes>"
      ]
     },
     "metadata": {
      "needs_background": "light"
     },
     "output_type": "display_data"
    }
   ],
   "source": [
    "x = [1 + i * (30 - 1) / 99 for i in range(100)]\n",
    "\n",
    "chi = pd.DataFrame({\n",
    "    'x': x,\n",
    "    'chi_1': stats.chi2.pdf(x, df=1),\n",
    "    'chi_2': stats.chi2.pdf(x, df=2),\n",
    "    'chi_5': stats.chi2.pdf(x, df=5),\n",
    "    'chi_10': stats.chi2.pdf(x, df=10),\n",
    "    'chi_20': stats.chi2.pdf(x, df=20),\n",
    "})\n",
    "\n",
    "fig, ax = plt.subplots(figsize=(4, 2.5))\n",
    "ax.plot(chi.x, chi.chi_1, color='black', linestyle='-', label='1')\n",
    "ax.plot(chi.x, chi.chi_2, color='black', linestyle=(0, (1, 1)), label='2')\n",
    "ax.plot(chi.x, chi.chi_5, color='black', linestyle=(0, (2, 1)), label='5')\n",
    "ax.plot(chi.x, chi.chi_10, color='black', linestyle=(0, (3, 1)), label='10')\n",
    "ax.plot(chi.x, chi.chi_20, color='black', linestyle=(0, (4, 1)), label='20')\n",
    "ax.legend(title='df')\n",
    "\n",
    "plt.tight_layout()\n",
    "plt.show()"
   ]
  },
  {
   "cell_type": "code",
   "execution_count": 10,
   "id": "52f8c6e1",
   "metadata": {},
   "outputs": [
    {
     "name": "stdout",
     "output_type": "stream",
     "text": [
      "Observed chi2: 1.6659\n",
      "p-value: 0.4348\n"
     ]
    }
   ],
   "source": [
    "chisq, pvalue, df, expected = stats.chi2_contingency(clicks)\n",
    "print(f'Observed chi2: {chisq:.4f}')\n",
    "print(f'p-value: {pvalue:.4f}')"
   ]
  },
  {
   "cell_type": "markdown",
   "id": "d0787c73",
   "metadata": {},
   "source": [
    "## 피셔의 정확검정\n",
    "- 발생할 수 있는 모든 조합(순열)을 실제로 열거하고, 빈도를 집계하고, 관찰된 결과가 얼마나 극단적으로 발생할 수 있는지를 정확하게 결정하는 절차"
   ]
  },
  {
   "cell_type": "code",
   "execution_count": 11,
   "id": "4d28d6bc",
   "metadata": {},
   "outputs": [],
   "source": [
    "# stats.fisher_exact(clicks.values) # scipy에서는 (2, 2)형태에서만 피셔의 정확검정을 제공"
   ]
  }
 ],
 "metadata": {
  "kernelspec": {
   "display_name": "Python 3 (ipykernel)",
   "language": "python",
   "name": "python3"
  },
  "language_info": {
   "codemirror_mode": {
    "name": "ipython",
    "version": 3
   },
   "file_extension": ".py",
   "mimetype": "text/x-python",
   "name": "python",
   "nbconvert_exporter": "python",
   "pygments_lexer": "ipython3",
   "version": "3.8.5"
  }
 },
 "nbformat": 4,
 "nbformat_minor": 5
}
