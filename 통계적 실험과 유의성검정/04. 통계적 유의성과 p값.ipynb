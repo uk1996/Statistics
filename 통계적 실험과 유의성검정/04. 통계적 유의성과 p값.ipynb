{
 "cells": [
  {
   "cell_type": "code",
   "execution_count": 1,
   "id": "fb8e44fe",
   "metadata": {},
   "outputs": [
    {
     "data": {
      "text/plain": [
       "'0.0368%'"
      ]
     },
     "execution_count": 1,
     "metadata": {},
     "output_type": "execute_result"
    }
   ],
   "source": [
    "t_A = 23739 # 가격 A를 사용한 전체 사람수\n",
    "c_A = 200 # 가격 A를 사용한 사람중 전환한 사람의수\n",
    "t_B = 22588\n",
    "c_B = 182\n",
    "\n",
    "# 두 가격의 전환률 차이\n",
    "obs_pct_diff = 100*(c_A/t_A - c_B/t_B)\n",
    "f\"{obs_pct_diff:.4f}%\""
   ]
  },
  {
   "cell_type": "code",
   "execution_count": null,
   "id": "9ba0c974",
   "metadata": {},
   "outputs": [],
   "source": []
  }
 ],
 "metadata": {
  "kernelspec": {
   "display_name": "Python 3 (ipykernel)",
   "language": "python",
   "name": "python3"
  },
  "language_info": {
   "codemirror_mode": {
    "name": "ipython",
    "version": 3
   },
   "file_extension": ".py",
   "mimetype": "text/x-python",
   "name": "python",
   "nbconvert_exporter": "python",
   "pygments_lexer": "ipython3",
   "version": "3.8.5"
  }
 },
 "nbformat": 4,
 "nbformat_minor": 5
}
