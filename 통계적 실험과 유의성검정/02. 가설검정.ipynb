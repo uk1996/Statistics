{
 "cells": [
  {
   "cell_type": "markdown",
   "id": "a7f8d1c2",
   "metadata": {},
   "source": [
    "# 가설검정(Hypothesis Test)\n",
    "- 관찰된 효과가 우연에 의한 것인지 여부를 알아내는것"
   ]
  },
  {
   "cell_type": "markdown",
   "id": "8b8f1eaa",
   "metadata": {},
   "source": [
    "## 용어\n",
    "- 귀무가설(null hypothesis): 우연 때문이라는 가설\n",
    "- 대립가설(alternative hypothesis): 귀무가설과 대조(증명하고자 하는 가설)\n",
    "- 일원검정(one-way test): 한 방향으로만 우연히 일어날 확률을 계산하는 가설검정\n",
    "- 이원검정(two-way test): 양방향으로 우연히 일어날 확률을 계산하는 가설검정"
   ]
  },
  {
   "cell_type": "markdown",
   "id": "c68ac14b",
   "metadata": {},
   "source": [
    "## 귀무가설\n",
    "- 그룹들이 보이는 결과는 동일하며, 그룹 간의 차이는 우연에 의한 결과라는 가설\n",
    "- 귀무가설이 틀렸다는 것을 입증해서, A 그룹과 B 그룹 간의 차이가 우연이 아니라는것을 보여주는것이 목표"
   ]
  },
  {
   "cell_type": "markdown",
   "id": "b490d6d4",
   "metadata": {},
   "source": [
    "## 대립가설\n",
    "- 귀무가설: 그룹 A와 그룹B의 평균에는 차이가 없다<br>\n",
    "대립가설: A는 B와 다르다.\n",
    "- 귀무가설: A <= B<br>\n",
    "대립가설: A > B\n",
    "- 귀무가설: B는 A보다 X% 더 크지 않다<br>\n",
    "대립가설:B는 A보다 X% 크다."
   ]
  }
 ],
 "metadata": {
  "kernelspec": {
   "display_name": "Python 3 (ipykernel)",
   "language": "python",
   "name": "python3"
  },
  "language_info": {
   "codemirror_mode": {
    "name": "ipython",
    "version": 3
   },
   "file_extension": ".py",
   "mimetype": "text/x-python",
   "name": "python",
   "nbconvert_exporter": "python",
   "pygments_lexer": "ipython3",
   "version": "3.8.5"
  }
 },
 "nbformat": 4,
 "nbformat_minor": 5
}
