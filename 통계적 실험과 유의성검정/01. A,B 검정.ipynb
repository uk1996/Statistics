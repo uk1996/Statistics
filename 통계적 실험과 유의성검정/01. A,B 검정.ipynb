{
 "cells": [
  {
   "cell_type": "markdown",
   "id": "a0170ce0",
   "metadata": {},
   "source": [
    "# A/B 검정\n",
    "- 두 가지 처리 방법, 제품, 절차 중 어느 쪽이 다른 쪽보다 더 우월하다는 것을 입증하기 위해 실험군을 두 그룹으로 나누어 진행하는 실험"
   ]
  },
  {
   "cell_type": "code",
   "execution_count": null,
   "id": "ef52c13e",
   "metadata": {},
   "outputs": [],
   "source": []
  }
 ],
 "metadata": {
  "kernelspec": {
   "display_name": "Python 3 (ipykernel)",
   "language": "python",
   "name": "python3"
  },
  "language_info": {
   "codemirror_mode": {
    "name": "ipython",
    "version": 3
   },
   "file_extension": ".py",
   "mimetype": "text/x-python",
   "name": "python",
   "nbconvert_exporter": "python",
   "pygments_lexer": "ipython3",
   "version": "3.8.5"
  }
 },
 "nbformat": 4,
 "nbformat_minor": 5
}
