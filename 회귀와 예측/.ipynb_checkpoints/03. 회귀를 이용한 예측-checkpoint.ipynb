{
 "cells": [
  {
   "cell_type": "markdown",
   "id": "c80d08e8",
   "metadata": {},
   "source": [
    "## 용어\n",
    "- 예측 구간(prediction interval):개별 예측값 주위의 불확실한 구간\n",
    "- 외삽법(extrapolation): 모델링에 사용된 데이터 범위를 벗어난 부분까지 모델을 확장하는것"
   ]
  },
  {
   "cell_type": "markdown",
   "id": "1a70c5a8",
   "metadata": {},
   "source": [
    "## 신뢰구간(95%)\n",
    "- 회귀계수와 예측을 둘러싼 불확실성 구간을 의미하는 신뢰구간<br><br>\n",
    "\n",
    "<절차>\n",
    "1. 각 행(결과변수를 포함)을 하나의 티켓으로 생각하고 개수가 모두 n개인 티켓을 박스에 넣었다고 가정한다.\n",
    "2. 무작위로 티켓을 뽑아 값을 기록하고 다시 박스에 넣는다.\n",
    "3. 2번 과정을 n 반복하여, 부트스트랩 재표본을 하나 만든다.\n",
    "4. 이 부트스트랩 표본을 가지고 회귀모형을 구한 후, 추정된 계수들을 기록한다.\n",
    "5. 2~4번 과정을 1000번 반복한다.\n",
    "6. 얻은 1000개의 부트스트랩 값의 각각의 계수에 대하여 2.5번째 백분위수와 97.5번째 백분위수를 찾는다."
   ]
  },
  {
   "cell_type": "markdown",
   "id": "e37d2a48",
   "metadata": {},
   "source": [
    "## 예측구간\n",
    "- 예측값의 구간<br><br>\n",
    "\n",
    "<절차>\n",
    "1. 데이터로부터 부트스트랩 표본을 뽑는다.\n",
    "2. 회귀모형을 찾고 새로운 값을 예측한다.\n",
    "3. 원래의 회귀 적합도에서 임의로 하나의 잔차를 취하여 예측값에 더하고 그 결과를 기록한다.\n",
    "4. 1~3단계를 1000번 반복\n",
    "5. 결과의 2.5번째 백분위수와 97.5번째 백분위수를 찾는다."
   ]
  },
  {
   "cell_type": "code",
   "execution_count": 1,
   "id": "3ba5cecc",
   "metadata": {},
   "outputs": [],
   "source": [
    "import pandas as pd\n",
    "from sklearn.utils import resample\n",
    "import matplotlib.pyplot as plt\n",
    "import seaborn as sns\n",
    "from sklearn.linear_model import LinearRegression\n",
    "import random\n",
    "\n",
    "# 한글 폰트 설정\n",
    "plt.rc(\"font\", family='Malgun Gothic')\n",
    "\n",
    "# - 깨짐 설정\n",
    "plt.rcParams['axes.unicode_minus'] = False"
   ]
  },
  {
   "cell_type": "code",
   "execution_count": 2,
   "id": "bb9de190",
   "metadata": {},
   "outputs": [],
   "source": [
    "house = pd.read_csv('../../data/house_sales.csv', sep='\\t')"
   ]
  },
  {
   "cell_type": "markdown",
   "id": "01ca32b8",
   "metadata": {},
   "source": [
    "### 원래 회귀모형"
   ]
  },
  {
   "cell_type": "code",
   "execution_count": 3,
   "id": "6c0cbc1e",
   "metadata": {},
   "outputs": [],
   "source": [
    "feature = 'SqFtTotLiving'\n",
    "label = 'AdjSalePrice'"
   ]
  },
  {
   "cell_type": "code",
   "execution_count": 4,
   "id": "fbf7da1a",
   "metadata": {},
   "outputs": [
    {
     "name": "stdout",
     "output_type": "stream",
     "text": [
      "기울기: [293.20271358]\n",
      "절편: -44676.967263193685\n"
     ]
    }
   ],
   "source": [
    "orign_model = LinearRegression()\n",
    "orign_model.fit(house[[feature]], house[label])\n",
    "\n",
    "print(f\"기울기: {orign_model.coef_}\")\n",
    "print(f\"절편: {orign_model.intercept_}\")"
   ]
  },
  {
   "cell_type": "code",
   "execution_count": 5,
   "id": "4af86215",
   "metadata": {},
   "outputs": [
    {
     "data": {
      "image/png": "[encoded data removed]",
      "text/plain": [
       "<Figure size 432x432 with 1 Axes>"
      ]
     },
     "metadata": {
      "needs_background": "light"
     },
     "output_type": "display_data"
    }
   ],
   "source": [
    "# 회귀선\n",
    "def abline(slope, intercept, ax):\n",
    "    xvals = ax.get_xlim()\n",
    "    return xvals, slope*xvals + intercept\n",
    "\n",
    "fig, ax = plt.subplots(figsize=(6, 6))\n",
    "ax.scatter(house[feature], house[label], color='black')\n",
    "ax.plot(abline(orign_model.coef_, orign_model.intercept_, ax)[0], abline(orign_model.coef_, orign_model.intercept_, ax)[1],\n",
    "        color='red', linewidth=2)\n",
    "ax.ticklabel_format(axis='both', style='plain')\n",
    "\n",
    "plt.show()"
   ]
  },
  {
   "cell_type": "code",
   "execution_count": 6,
   "id": "a4672c71",
   "metadata": {},
   "outputs": [
    {
     "data": {
      "text/plain": [
       "1       -358204.545333\n",
       "2         17223.953342\n",
       "3        202484.377285\n",
       "4       -451506.716198\n",
       "5       -162566.700097\n",
       "             ...      \n",
       "27057     54539.951162\n",
       "27058    246956.159158\n",
       "27061    -48305.936269\n",
       "27062     -7473.682504\n",
       "27063    288535.823534\n",
       "Name: AdjSalePrice, Length: 22687, dtype: float64"
      ]
     },
     "execution_count": 6,
     "metadata": {},
     "output_type": "execute_result"
    }
   ],
   "source": [
    "# 원래의 회귀 적합도에서의 잔차\n",
    "residual = house[label] - orign_model.predict(house[[feature]])\n",
    "residual"
   ]
  },
  {
   "cell_type": "markdown",
   "id": "12160fb2",
   "metadata": {},
   "source": [
    "### 예측구간 구하기"
   ]
  },
  {
   "cell_type": "code",
   "execution_count": 7,
   "id": "f3dc3e0c",
   "metadata": {},
   "outputs": [],
   "source": [
    "# 부트스트랩\n",
    "pr_res = []\n",
    "indcies = []\n",
    "for _ in range(1000): # 부트스트랩을 1000번 반복\n",
    "    sample = resample(house[[feature, label]]).drop_duplicates()\n",
    "    bt_model = LinearRegression()\n",
    "    bt_model.fit(sample[[feature]], sample[label])\n",
    "    bt_prediction = pd.Series(bt_model.predict(sample[[feature]]), index=sample.index)\n",
    "    random_bt_prediction_index = bt_prediction.sample(n=1).index\n",
    "    pr_re = bt_prediction[random_bt_prediction_index] + residual[random_bt_prediction_index]  # 원래의 회귀 적합도에서 임의의 잔차값을 취하여 예측값에 더함\n",
    "    indcies.append(random_bt_prediction_index[0])\n",
    "    pr_res.append(pr_re.values[0])"
   ]
  },
  {
   "cell_type": "code",
   "execution_count": 11,
   "id": "282fcc71",
   "metadata": {},
   "outputs": [
    {
     "data": {
      "image/png": "[encoded data removed]",
      "text/plain": [
       "<Figure size 432x360 with 1 Axes>"
      ]
     },
     "metadata": {
      "needs_background": "light"
     },
     "output_type": "display_data"
    }
   ],
   "source": [
    "pr_res = pd.Series(pr_res, index=indcies)\n",
    "confidence_interval = pr_res.quantile([0.025, 0.975]).values\n",
    "\n",
    "fig,ax = plt.subplots(figsize=(6, 5))\n",
    "sns.histplot(pr_res, ax=ax)\n",
    "ax.ticklabel_format(axis='both', style='plain')\n",
    "ax.axvline(x=confidence_interval[0], color='red')\n",
    "ax.axvline(x=confidence_interval[1], color='red')\n",
    "ax.plot([confidence_interval[0], confidence_interval[1]], [132, 132], color='red')\n",
    "ax.text((confidence_interval[0] + confidence_interval[1])/2, 131, s='(95% C.I)', va='top', ha='center', color='red')\n",
    "\n",
    "plt.show()"
   ]
  }
 ],
 "metadata": {
  "kernelspec": {
   "display_name": "Python 3 (ipykernel)",
   "language": "python",
   "name": "python3"
  },
  "language_info": {
   "codemirror_mode": {
    "name": "ipython",
    "version": 3
   },
   "file_extension": ".py",
   "mimetype": "text/x-python",
   "name": "python",
   "nbconvert_exporter": "python",
   "pygments_lexer": "ipython3",
   "version": "3.8.5"
  }
 },
 "nbformat": 4,
 "nbformat_minor": 5
}
