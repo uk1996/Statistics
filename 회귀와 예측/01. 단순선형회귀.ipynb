{
 "cells": [
  {
   "cell_type": "markdown",
   "id": "247ce8b0",
   "metadata": {},
   "source": [
    "## 용어\n",
    "- 응답변수,반응변수(response variable): 예측하고자 하는 변수(유의어: 종속변수, 변수 Y, 목표, 출력)\n",
    "- 독립변수(independent variable): 응답치를 예측하기 위해 사용되는 변수(유의어: 예측변수, 변수 X, 피쳐, 속성)\n",
    "- 레코드(record): 한 특정 경우에 대한 입력과 출력을 담고 있는 벡터(유의어: 행, 사건, 예시(instance), 예제(example))\n",
    "- 절편(intercept): 회귀직선의 절편, 즉 X=0일때 예측값\n",
    "- 회귀계수(regression coeffciect): 회귀직선의 기울기(유의어:기울기(slope), 가중치)\n",
    "- 적합값(fitted value): 회귀선으로부터 얻은 추정치(유의어: 예측값)\n",
    "- 잔차(residual): 관측값과 적합값의 차이(유의어: 오차)\n",
    "- 최소제곱(least square): 잔차의 제곱합을 최소화하여 회귀를 피팅하는 방법(유의어:OLS, 보통최소제곱)"
   ]
  },
  {
   "cell_type": "code",
   "execution_count": null,
   "id": "1c633fed",
   "metadata": {},
   "outputs": [],
   "source": []
  }
 ],
 "metadata": {
  "kernelspec": {
   "display_name": "Python 3 (ipykernel)",
   "language": "python",
   "name": "python3"
  },
  "language_info": {
   "codemirror_mode": {
    "name": "ipython",
    "version": 3
   },
   "file_extension": ".py",
   "mimetype": "text/x-python",
   "name": "python",
   "nbconvert_exporter": "python",
   "pygments_lexer": "ipython3",
   "version": "3.8.5"
  }
 },
 "nbformat": 4,
 "nbformat_minor": 5
}
