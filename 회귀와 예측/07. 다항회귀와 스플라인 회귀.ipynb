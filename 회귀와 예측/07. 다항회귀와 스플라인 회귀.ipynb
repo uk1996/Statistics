{
 "cells": [
  {
   "cell_type": "markdown",
   "id": "fcab572e",
   "metadata": {},
   "source": [
    "## 용어\n",
    "- 다항회귀(polynomial regression): 회귀모형에 다항식(제곱, 세제곱)항을 추가한 방정식\n",
    "- 스플라인 회귀(spline regrssion): 다항 구간들을 부드러운 곡선 형태로 피팅한다.\n",
    "- 매듭(knot): 스플라인 구간을 구분하는 값들\n",
    "- 일반화가법모형, GAM(generalized additive model): 자동으로 구간을 결정하는 스플라인 모델"
   ]
  },
  {
   "cell_type": "code",
   "execution_count": 1,
   "id": "97285e84",
   "metadata": {},
   "outputs": [],
   "source": [
    "import pandas as pd\n",
    "import statsmodels.formula.api as smf"
   ]
  },
  {
   "cell_type": "code",
   "execution_count": null,
   "id": "d415d1e9",
   "metadata": {},
   "outputs": [],
   "source": []
  }
 ],
 "metadata": {
  "kernelspec": {
   "display_name": "Python 3 (ipykernel)",
   "language": "python",
   "name": "python3"
  },
  "language_info": {
   "codemirror_mode": {
    "name": "ipython",
    "version": 3
   },
   "file_extension": ".py",
   "mimetype": "text/x-python",
   "name": "python",
   "nbconvert_exporter": "python",
   "pygments_lexer": "ipython3",
   "version": "3.8.5"
  }
 },
 "nbformat": 4,
 "nbformat_minor": 5
}
