{
 "cells": [
  {
   "cell_type": "markdown",
   "id": "fcf2343c",
   "metadata": {},
   "source": [
    "## 용어\n",
    "- 변수 간 상관(correlated variables): 변수들이 같은 방향으로 움직이려는 경향을 가짐. 예측 변수들끼리 서로 높은 상관성을 가질 때는 개별 계수를 해석하는 것이 어렵다.\n",
    "- 다중공선성(multicollinearity): 예측변수들이 완벽하거나 거의 완벽에 가까운 상관성을 갖는다고 할 때, 회귀는 불안정하며 계산이 불가능하다.\n",
    "- 교란변수(confounding variable): 중요한 예측변수이지만 회귀방정식에 누락되어 결과를 잘못되게 이끄는 변수\n",
    "- 주효과(main effect): 다른 변수들과 독립된, 하나의 예측변수와 응답변수 사이의 상호 의존적인 관계"
   ]
  },
  {
   "cell_type": "code",
   "execution_count": 1,
   "id": "b2be5d4b",
   "metadata": {},
   "outputs": [],
   "source": [
    "import pandas as pd\n",
    "import numpy as np\n",
    "\n",
    "from sklearn.linear_model import LinearRegression\n",
    "\n",
    "from dmba import stepwise_selection, AIC_score\n",
    "\n",
    "from statsmodels.stats.outliers_influence import variance_inflation_factor"
   ]
  },
  {
   "cell_type": "code",
   "execution_count": 2,
   "id": "9cbea095",
   "metadata": {},
   "outputs": [],
   "source": [
    "house = pd.read_csv('../../data/house_sales.csv', sep='\\t')"
   ]
  },
  {
   "cell_type": "markdown",
   "id": "0de0ab81",
   "metadata": {},
   "source": [
    "## 예측변수 간 상관"
   ]
  },
  {
   "cell_type": "code",
   "execution_count": 3,
   "id": "3bd213d2",
   "metadata": {},
   "outputs": [
    {
     "name": "stdout",
     "output_type": "stream",
     "text": [
      "Variables: SqFtTotLiving, SqFtLot, Bathrooms, Bedrooms, BldgGrade, NbrLivingUnits, SqFtFinBasement, YrBuilt, YrRenovated, NewConstruction, PropertyType_Single Family, PropertyType_Townhouse\n",
      "Start: score=647988.32, constant\n",
      "Step: score=633013.35, add SqFtTotLiving\n",
      "Step: score=630793.74, add BldgGrade\n",
      "Step: score=628230.29, add YrBuilt\n",
      "Step: score=627784.16, add Bedrooms\n",
      "Step: score=627602.21, add Bathrooms\n",
      "Step: score=627525.65, add PropertyType_Townhouse\n",
      "Step: score=627525.08, add SqFtFinBasement\n",
      "Step: score=627524.98, add PropertyType_Single Family\n",
      "Step: score=627524.98, unchanged None\n",
      "\n",
      "Intercept: 6178645.017\n",
      "Coefficients:\n",
      " SqFtTotLiving: 199.2775530420158\n",
      " BldgGrade: 137159.5602261976\n",
      " YrBuilt: -3565.4249392494557\n",
      " Bedrooms: -51947.383673614146\n",
      " Bathrooms: 42396.16452772052\n",
      " PropertyType_Townhouse: 84479.1620329995\n",
      " SqFtFinBasement: 7.046974967583083\n",
      " PropertyType_Single Family: 22912.05518701769\n"
     ]
    }
   ],
   "source": [
    "features = ['SqFtTotLiving', 'SqFtLot', 'Bathrooms', 'Bedrooms',\n",
    "              'BldgGrade', 'PropertyType', 'NbrLivingUnits',\n",
    "              'SqFtFinBasement', 'YrBuilt', 'YrRenovated', \n",
    "              'NewConstruction']\n",
    "label = 'AdjSalePrice'\n",
    "\n",
    "X = pd.get_dummies(house[features], # 숫자형이 아닌 모든 컬럼들에 대해서 원핫인코딩 \n",
    "                   drop_first=True) # 첫번째 카테고리는 사용하지 않음(나머지 값이 전부 0이면 첫번째 카테고리 값을 알수있다.)\n",
    "X['NewConstruction'] = X['NewConstruction'].replace({False:0, True:1})\n",
    "y = house[label]\n",
    "\n",
    "# 주어진 변수 집합에 대해 적합 모델을 반환하는 함수를 정의\n",
    "def train_model(variables):\n",
    "    if len(variables) == 0:\n",
    "        return None\n",
    "    model = LinearRegression()\n",
    "    model.fit(X[variables], y)\n",
    "    return model\n",
    "\n",
    "# 주어진 모델과 변수 세트에 대한 점수를 반환하는 함수를 정의\n",
    "def score_model(model, variables):\n",
    "    if len(variables) == 0:\n",
    "        return AIC_score(y, [y.mean()]*len(y), model, df=1)\n",
    "    return AIC_score(y, model.predict(X[variables]), model)\n",
    "\n",
    "best_model, best_variables = stepwise_selection(X.columns, train_model, score_model, verbose=True)\n",
    "\n",
    "print()\n",
    "print(f'Intercept: {best_model.intercept_:.3f}')\n",
    "print('Coefficients:')\n",
    "for name, coef in zip(best_variables, best_model.coef_):\n",
    "    print(f\" {name}: {coef}\")\n",
    "    \n",
    "\n",
    "\n",
    "#  * Bedrooms의 계수가 음수인 것을 볼 수 있다.\n",
    "# => 침실 개수를 늘릴수록 그 가치가 감소한다.\n",
    "# => 집이 클수록 침실이 더 많은 경향이 있으며, 침실 수보다는 주택의 크기가 주택 가격에 더 큰 영향을 준다.\n",
    "#    똑같은 크기의 두 집이 있다고 하면, 작은 크기의 침실이 여러 개 있는 것을 선호하지 않는 것이 합리적이다."
   ]
  },
  {
   "cell_type": "code",
   "execution_count": 4,
   "id": "67f5c7ed",
   "metadata": {},
   "outputs": [
    {
     "name": "stdout",
     "output_type": "stream",
     "text": [
      "Intercept: 4913973.344\n",
      "Coefficients:\n",
      " Bedrooms: 27150.537230219703\n",
      " BldgGrade: 248997.79366212635\n",
      " YrBuilt: -3211.7448621551157\n",
      " PropertyType_Single Family: -19898.495340501973\n",
      " PropertyType_Townhouse: -47355.436873344275\n"
     ]
    }
   ],
   "source": [
    "# Bedrooms과 상관관계가 있는 SqFtTotLiving, SqFtFinBasement, Bathrooms 제거후 계수\n",
    "\n",
    "features = ['Bedrooms', 'BldgGrade', 'PropertyType', 'YrBuilt']\n",
    "label = 'AdjSalePrice'\n",
    "\n",
    "X = pd.get_dummies(house[features], drop_first=True)\n",
    "y = house[label]\n",
    "\n",
    "reduced_lm = LinearRegression()\n",
    "reduced_lm.fit(X, y)\n",
    "\n",
    "print(f'Intercept: {reduced_lm.intercept_:.3f}')\n",
    "print('Coefficients:')\n",
    "for name, coef in zip(X.columns, reduced_lm.coef_):\n",
    "    print(f' {name}: {coef}')\n",
    "    \n",
    "# Bedrooms에 대한 계수가 양수인 것을 확인할 수 있음."
   ]
  },
  {
   "cell_type": "markdown",
   "id": "41c15921",
   "metadata": {},
   "source": [
    "## 다중공선성(Multicollinearity)\n",
    "- 회귀분석에서는 다중공선성 문제를 반드시 해결해야 한다. 다중공선성이 사라질 때까지 변수를 제거해야 한다. 다중공선성이 사라질 때까지 변수를 제거해야 한다. 완전 다중공선성이 존재하는 상황에서는 회귀를 통해 제대로 된 답을 얻을수 없다.\n",
    "\n",
    "- 완전 다중공선성: 한 예측변수가 다른 변수들의 선형 결합으로 표현 되는 것"
   ]
  },
  {
   "cell_type": "code",
   "execution_count": 5,
   "id": "86fb9369",
   "metadata": {},
   "outputs": [],
   "source": [
    "# VIF 확인\n",
    "def show_vif(df):\n",
    "    vif = []\n",
    "    for idx in range(len(df.columns)):\n",
    "        vif.append(variance_inflation_factor(df.values, idx))\n",
    "\n",
    "    vif_dataframe = pd.DataFrame()\n",
    "    vif_dataframe['columns'] = df.columns\n",
    "    vif_dataframe['VIF'] = vif\n",
    "    return vif_dataframe\n",
    "\n",
    "# 다중공선성 제거(vif > 10 이상인거 제거)\n",
    "def remove_multicollinearity(df):\n",
    "    while True:\n",
    "        vif_dataframe = show_vif(df)\n",
    "        \n",
    "        print(f\"VIF가 10 이상인 컬럼 개수: {len(vif_dataframe[vif_dataframe['VIF'] >= 10])}\")\n",
    "        if len(vif_dataframe[vif_dataframe['VIF'] >= 10]) == 0:\n",
    "            break\n",
    "        \n",
    "        remove_column = vif_dataframe[vif_dataframe['VIF'] >= 10].sort_values(by='VIF', ascending=False)['columns'].reset_index(drop=True)[0]\n",
    "        print(f\"remove_column: {remove_column}\")\n",
    "        df = df.drop(remove_column, axis=1)\n",
    "    return df"
   ]
  },
  {
   "cell_type": "code",
   "execution_count": 6,
   "id": "9304335e",
   "metadata": {},
   "outputs": [],
   "source": [
    "features = ['SqFtTotLiving', 'SqFtLot', 'Bathrooms', 'Bedrooms',\n",
    "              'BldgGrade', 'PropertyType', 'NbrLivingUnits',\n",
    "              'SqFtFinBasement', 'YrBuilt', 'YrRenovated', \n",
    "              'NewConstruction']\n",
    "label = 'AdjSalePrice'\n",
    "\n",
    "X = pd.get_dummies(house[features], # 숫자형이 아닌 모든 컬럼들에 대해서 원핫인코딩 \n",
    "                   drop_first=True) # 첫번째 카테고리는 사용하지 않음(나머지 값이 전부 0이면 첫번째 카테고리 값을 알수있다.)\n",
    "X['NewConstruction'] = X['NewConstruction'].replace({False:0, True:1})\n",
    "y = house[label]"
   ]
  },
  {
   "cell_type": "code",
   "execution_count": 7,
   "id": "d1442eac",
   "metadata": {},
   "outputs": [
    {
     "data": {
      "text/html": [
       "<div>\n",
       "<style scoped>\n",
       "    .dataframe tbody tr th:only-of-type {\n",
       "        vertical-align: middle;\n",
       "    }\n",
       "\n",
       "    .dataframe tbody tr th {\n",
       "        vertical-align: top;\n",
       "    }\n",
       "\n",
       "    .dataframe thead th {\n",
       "        text-align: right;\n",
       "    }\n",
       "</style>\n",
       "<table border=\"1\" class=\"dataframe\">\n",
       "  <thead>\n",
       "    <tr style=\"text-align: right;\">\n",
       "      <th></th>\n",
       "      <th>columns</th>\n",
       "      <th>VIF</th>\n",
       "    </tr>\n",
       "  </thead>\n",
       "  <tbody>\n",
       "    <tr>\n",
       "      <th>0</th>\n",
       "      <td>SqFtTotLiving</td>\n",
       "      <td>34.529772</td>\n",
       "    </tr>\n",
       "    <tr>\n",
       "      <th>1</th>\n",
       "      <td>SqFtLot</td>\n",
       "      <td>1.235760</td>\n",
       "    </tr>\n",
       "    <tr>\n",
       "      <th>2</th>\n",
       "      <td>Bathrooms</td>\n",
       "      <td>26.194693</td>\n",
       "    </tr>\n",
       "    <tr>\n",
       "      <th>3</th>\n",
       "      <td>Bedrooms</td>\n",
       "      <td>26.298000</td>\n",
       "    </tr>\n",
       "    <tr>\n",
       "      <th>4</th>\n",
       "      <td>BldgGrade</td>\n",
       "      <td>135.516039</td>\n",
       "    </tr>\n",
       "    <tr>\n",
       "      <th>5</th>\n",
       "      <td>NbrLivingUnits</td>\n",
       "      <td>110.018883</td>\n",
       "    </tr>\n",
       "    <tr>\n",
       "      <th>6</th>\n",
       "      <td>SqFtFinBasement</td>\n",
       "      <td>1.986791</td>\n",
       "    </tr>\n",
       "    <tr>\n",
       "      <th>7</th>\n",
       "      <td>YrBuilt</td>\n",
       "      <td>714.409384</td>\n",
       "    </tr>\n",
       "    <tr>\n",
       "      <th>8</th>\n",
       "      <td>YrRenovated</td>\n",
       "      <td>1.085039</td>\n",
       "    </tr>\n",
       "    <tr>\n",
       "      <th>9</th>\n",
       "      <td>NewConstruction</td>\n",
       "      <td>1.338990</td>\n",
       "    </tr>\n",
       "    <tr>\n",
       "      <th>10</th>\n",
       "      <td>PropertyType_Single Family</td>\n",
       "      <td>220.515065</td>\n",
       "    </tr>\n",
       "    <tr>\n",
       "      <th>11</th>\n",
       "      <td>PropertyType_Townhouse</td>\n",
       "      <td>20.115940</td>\n",
       "    </tr>\n",
       "  </tbody>\n",
       "</table>\n",
       "</div>"
      ],
      "text/plain": [
       "                       columns         VIF\n",
       "0                SqFtTotLiving   34.529772\n",
       "1                      SqFtLot    1.235760\n",
       "2                    Bathrooms   26.194693\n",
       "3                     Bedrooms   26.298000\n",
       "4                    BldgGrade  135.516039\n",
       "5               NbrLivingUnits  110.018883\n",
       "6              SqFtFinBasement    1.986791\n",
       "7                      YrBuilt  714.409384\n",
       "8                  YrRenovated    1.085039\n",
       "9              NewConstruction    1.338990\n",
       "10  PropertyType_Single Family  220.515065\n",
       "11      PropertyType_Townhouse   20.115940"
      ]
     },
     "execution_count": 7,
     "metadata": {},
     "output_type": "execute_result"
    }
   ],
   "source": [
    "# 예측변수들끼리의 VIF 확인\n",
    "show_vif(X)"
   ]
  },
  {
   "cell_type": "code",
   "execution_count": 8,
   "id": "a8ce4421",
   "metadata": {},
   "outputs": [
    {
     "name": "stdout",
     "output_type": "stream",
     "text": [
      "VIF가 10 이상인 컬럼 개수: 8\n",
      "remove_column: YrBuilt\n",
      "VIF가 10 이상인 컬럼 개수: 6\n",
      "remove_column: BldgGrade\n",
      "VIF가 10 이상인 컬럼 개수: 5\n",
      "remove_column: Bathrooms\n",
      "VIF가 10 이상인 컬럼 개수: 4\n",
      "remove_column: Bedrooms\n",
      "VIF가 10 이상인 컬럼 개수: 2\n",
      "remove_column: NbrLivingUnits\n",
      "VIF가 10 이상인 컬럼 개수: 0\n"
     ]
    }
   ],
   "source": [
    "# VIF계산하고 최대값을 가지는 변수를 제거(VIF가 10이상일때), 이 과정을 VIF가 10이상이 없을때 까지 시행\n",
    "X_new = remove_multicollinearity(X)"
   ]
  },
  {
   "cell_type": "code",
   "execution_count": 9,
   "id": "b6da7787",
   "metadata": {},
   "outputs": [
    {
     "data": {
      "text/plain": [
       "Index(['SqFtTotLiving', 'SqFtLot', 'SqFtFinBasement', 'YrRenovated',\n",
       "       'NewConstruction', 'PropertyType_Single Family',\n",
       "       'PropertyType_Townhouse'],\n",
       "      dtype='object')"
      ]
     },
     "execution_count": 9,
     "metadata": {},
     "output_type": "execute_result"
    }
   ],
   "source": [
    "# 남은 컬럼\n",
    "X_new.columns"
   ]
  },
  {
   "cell_type": "code",
   "execution_count": 10,
   "id": "232dd199",
   "metadata": {},
   "outputs": [
    {
     "data": {
      "text/html": [
       "<div>\n",
       "<style scoped>\n",
       "    .dataframe tbody tr th:only-of-type {\n",
       "        vertical-align: middle;\n",
       "    }\n",
       "\n",
       "    .dataframe tbody tr th {\n",
       "        vertical-align: top;\n",
       "    }\n",
       "\n",
       "    .dataframe thead th {\n",
       "        text-align: right;\n",
       "    }\n",
       "</style>\n",
       "<table border=\"1\" class=\"dataframe\">\n",
       "  <thead>\n",
       "    <tr style=\"text-align: right;\">\n",
       "      <th></th>\n",
       "      <th>columns</th>\n",
       "      <th>VIF</th>\n",
       "    </tr>\n",
       "  </thead>\n",
       "  <tbody>\n",
       "    <tr>\n",
       "      <th>0</th>\n",
       "      <td>SqFtTotLiving</td>\n",
       "      <td>7.972903</td>\n",
       "    </tr>\n",
       "    <tr>\n",
       "      <th>1</th>\n",
       "      <td>SqFtLot</td>\n",
       "      <td>1.227522</td>\n",
       "    </tr>\n",
       "    <tr>\n",
       "      <th>2</th>\n",
       "      <td>SqFtFinBasement</td>\n",
       "      <td>1.809953</td>\n",
       "    </tr>\n",
       "    <tr>\n",
       "      <th>3</th>\n",
       "      <td>YrRenovated</td>\n",
       "      <td>1.073024</td>\n",
       "    </tr>\n",
       "    <tr>\n",
       "      <th>4</th>\n",
       "      <td>NewConstruction</td>\n",
       "      <td>1.317730</td>\n",
       "    </tr>\n",
       "    <tr>\n",
       "      <th>5</th>\n",
       "      <td>PropertyType_Single Family</td>\n",
       "      <td>5.939429</td>\n",
       "    </tr>\n",
       "    <tr>\n",
       "      <th>6</th>\n",
       "      <td>PropertyType_Townhouse</td>\n",
       "      <td>1.293813</td>\n",
       "    </tr>\n",
       "  </tbody>\n",
       "</table>\n",
       "</div>"
      ],
      "text/plain": [
       "                      columns       VIF\n",
       "0               SqFtTotLiving  7.972903\n",
       "1                     SqFtLot  1.227522\n",
       "2             SqFtFinBasement  1.809953\n",
       "3                 YrRenovated  1.073024\n",
       "4             NewConstruction  1.317730\n",
       "5  PropertyType_Single Family  5.939429\n",
       "6      PropertyType_Townhouse  1.293813"
      ]
     },
     "execution_count": 10,
     "metadata": {},
     "output_type": "execute_result"
    }
   ],
   "source": [
    "# 다중공선이 제거된 컬럼의 VIF 확인(해당 변수가 다른 변수와 전혀 상관 관계가 없다면 VIF=1)\n",
    "show_vif(X_new)"
   ]
  },
  {
   "cell_type": "code",
   "execution_count": 11,
   "id": "ea9a9659",
   "metadata": {},
   "outputs": [
    {
     "name": "stdout",
     "output_type": "stream",
     "text": [
      "Intercept: -117796.079\n",
      "Coefficients:\n",
      " SqFtTotLiving: 299.1351307160863\n",
      " SqFtLot: 0.0030082082000720822\n",
      " SqFtFinBasement: 3.3747022468775723\n",
      " YrRenovated: 51.80738134944828\n",
      " NewConstruction: -69099.4706763774\n",
      " PropertyType_Single Family: 54909.69043386893\n",
      " PropertyType_Townhouse: 153803.75587451455\n"
     ]
    }
   ],
   "source": [
    "# 다중 공선성이 제거된 변수들의 회귀계수\n",
    "removed_lm = LinearRegression()\n",
    "removed_lm.fit(X_new, y)\n",
    "\n",
    "print(f'Intercept: {removed_lm.intercept_:.3f}')\n",
    "print('Coefficients:')\n",
    "for name, coef in zip(X_new.columns, removed_lm.coef_):\n",
    "    print(f' {name}: {coef}')"
   ]
  },
  {
   "cell_type": "markdown",
   "id": "fa704577",
   "metadata": {},
   "source": [
    "## 교란변수(Confounding variable)\n",
    "- 회귀방정식에 중요한 변수가 포함되지 못해서 생기는 누락의 문제"
   ]
  },
  {
   "cell_type": "code",
   "execution_count": 12,
   "id": "2a7703c6",
   "metadata": {},
   "outputs": [],
   "source": [
    "# 위치정보를 고려하기 위해, 우편번호를 가장 싼 지역(0)에서 가장 비싼 지역(4)까지 5개의 그룹으로 분류\n",
    "\n",
    "zip_groups = pd.DataFrame([\n",
    "    *house[['ZipCode', 'AdjSalePrice']].groupby('ZipCode').apply(lambda x:{\n",
    "    'ZipCode':x.iloc[0, 0],\n",
    "    'count':len(x),\n",
    "    'mean_price':x['AdjSalePrice'].mean()\n",
    "})]).sort_values('mean_price')\n",
    "\n",
    "zip_groups['cum_count'] = np.cumsum(zip_groups['count'])\n",
    "zip_groups['ZipGroup'] = pd.qcut(zip_groups['cum_count'], 5, labels=False, retbins=False)\n",
    "\n",
    "to_join = zip_groups[['ZipCode', 'ZipGroup']].set_index('ZipCode')\n",
    "house = house.join(to_join, on='ZipCode')"
   ]
  },
  {
   "cell_type": "code",
   "execution_count": 13,
   "id": "15d6ecf6",
   "metadata": {},
   "outputs": [
    {
     "name": "stdout",
     "output_type": "stream",
     "text": [
      "Intercept: -180227.894\n",
      "Coefficients:\n",
      " SqFtTotLiving: 252.77718153798082\n",
      " SqFtLot: 0.22595278481209569\n",
      " SqFtFinBasement: -1.5133718771428375\n",
      " YrRenovated: 39.47033339111238\n",
      " NewConstruction: -32298.629992164235\n",
      " PropertyType_Single Family: 64827.75296063482\n",
      " PropertyType_Townhouse: 98772.53857491646\n",
      " ZipGroup_1: 45189.32458097105\n",
      " ZipGroup_2: 131343.12667903677\n",
      " ZipGroup_3: 187110.7762733283\n",
      " ZipGroup_4: 358037.4345117908\n"
     ]
    }
   ],
   "source": [
    "# 그룹된화된 변수를 추가하여 선형회귀 실행\n",
    "\n",
    "features = ['SqFtTotLiving', 'SqFtLot', 'SqFtFinBasement', 'YrRenovated', 'NewConstruction', 'PropertyType', 'ZipGroup']\n",
    "label = 'AdjSalePrice'\n",
    "\n",
    "house['ZipGroup'] = house['ZipGroup'].astype('category')\n",
    "\n",
    "X = pd.get_dummies(house[features], drop_first=True)\n",
    "y = house[label]\n",
    "\n",
    "confounding_lm = LinearRegression()\n",
    "confounding_lm.fit(X, y)\n",
    "\n",
    "print(f'Intercept: {confounding_lm.intercept_:.3f}')\n",
    "print('Coefficients:')\n",
    "for name, coef in zip(X.columns, confounding_lm.coef_):\n",
    "    print(f' {name}: {coef}')\n",
    "    \n",
    "# ZipGroup이 중요한 변수라는 것을 확인할 수 있다."
   ]
  }
 ],
 "metadata": {
  "kernelspec": {
   "display_name": "Python 3 (ipykernel)",
   "language": "python",
   "name": "python3"
  },
  "language_info": {
   "codemirror_mode": {
    "name": "ipython",
    "version": 3
   },
   "file_extension": ".py",
   "mimetype": "text/x-python",
   "name": "python",
   "nbconvert_exporter": "python",
   "pygments_lexer": "ipython3",
   "version": "3.8.5"
  }
 },
 "nbformat": 4,
 "nbformat_minor": 5
}
