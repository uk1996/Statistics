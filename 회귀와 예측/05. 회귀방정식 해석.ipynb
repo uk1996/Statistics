{
 "cells": [
  {
   "cell_type": "markdown",
   "id": "fcf2343c",
   "metadata": {},
   "source": [
    "## 용어\n",
    "- 변수 간 상관(correlated variables): 변수들이 같은 방향으로 움직이려는 경향을 가짐. 예측 변수들끼리 서로 높은 상관성을 가질 때는 개별 계수를 해석하는 것이 어렵다.\n",
    "- 다중공선성(multicollinearity): 예측변수들이 완벽하거나 거의 완벽에 가까운 상관성을 갖는다고 할 때, 회귀는 불안정하며 계산이 불가능하다.\n",
    "- 교란변수(confounding variable): 중요한 예측변수이지만 회귀방정식에 누락되어 결과를 잘못되게 이끄는 변수\n",
    "- 주효과(main effect): 다른 변수들과 독립된, 하나의 예측변수와 응답변수 사이의 상호 의존적인 관계"
   ]
  },
  {
   "cell_type": "code",
   "execution_count": 6,
   "id": "b2be5d4b",
   "metadata": {},
   "outputs": [],
   "source": [
    "import pandas as pd\n",
    "\n",
    "from sklearn.linear_model import LinearRegression\n",
    "\n",
    "from dmba import stepwise_selection, AIC_score"
   ]
  },
  {
   "cell_type": "code",
   "execution_count": 2,
   "id": "9cbea095",
   "metadata": {},
   "outputs": [],
   "source": [
    "house = pd.read_csv('../../data/house_sales.csv', sep='\\t')"
   ]
  },
  {
   "cell_type": "markdown",
   "id": "0de0ab81",
   "metadata": {},
   "source": [
    "## 예측변수 간 상관"
   ]
  },
  {
   "cell_type": "code",
   "execution_count": 10,
   "id": "3bd213d2",
   "metadata": {},
   "outputs": [
    {
     "name": "stdout",
     "output_type": "stream",
     "text": [
      "Variables: SqFtTotLiving, SqFtLot, Bathrooms, Bedrooms, BldgGrade, NbrLivingUnits, SqFtFinBasement, YrBuilt, YrRenovated, NewConstruction, PropertyType_Single Family, PropertyType_Townhouse\n",
      "Start: score=647988.32, constant\n",
      "Step: score=633013.35, add SqFtTotLiving\n",
      "Step: score=630793.74, add BldgGrade\n",
      "Step: score=628230.29, add YrBuilt\n",
      "Step: score=627784.16, add Bedrooms\n",
      "Step: score=627602.21, add Bathrooms\n",
      "Step: score=627525.65, add PropertyType_Townhouse\n",
      "Step: score=627525.08, add SqFtFinBasement\n",
      "Step: score=627524.98, add PropertyType_Single Family\n",
      "Step: score=627524.98, unchanged None\n",
      "\n",
      "Intercept: 6178645.017\n",
      "Coefficients:\n",
      " SqFtTotLiving: 199.2775530420158\n",
      " BldgGrade: 137159.5602261976\n",
      " YrBuilt: -3565.4249392494557\n",
      " Bedrooms: -51947.383673614146\n",
      " Bathrooms: 42396.16452772052\n",
      " PropertyType_Townhouse: 84479.1620329995\n",
      " SqFtFinBasement: 7.046974967583083\n",
      " PropertyType_Single Family: 22912.05518701769\n"
     ]
    }
   ],
   "source": [
    "features = ['SqFtTotLiving', 'SqFtLot', 'Bathrooms', 'Bedrooms',\n",
    "              'BldgGrade', 'PropertyType', 'NbrLivingUnits',\n",
    "              'SqFtFinBasement', 'YrBuilt', 'YrRenovated', \n",
    "              'NewConstruction']\n",
    "label = 'AdjSalePrice'\n",
    "\n",
    "X = pd.get_dummies(house[features], # 숫자형이 아닌 모든 컬럼들에 대해서 원핫인코딩 \n",
    "                   drop_first=True) # 첫번째 카테고리는 사용하지 않음(나머지 값이 전부 0이면 첫번째 카테고리 값을 알수있다.)\n",
    "X['NewConstruction'] = X['NewConstruction'].replace({False:0, True:1})\n",
    "y = house[label]\n",
    "\n",
    "# 주어진 변수 집합에 대해 적합 모델을 반환하는 함수를 정의\n",
    "def train_model(variables):\n",
    "    if len(variables) == 0:\n",
    "        return None\n",
    "    model = LinearRegression()\n",
    "    model.fit(X[variables], y)\n",
    "    return model\n",
    "\n",
    "# 주어진 모델과 변수 세트에 대한 점수를 반환하는 함수를 정의\n",
    "def score_model(model, variables):\n",
    "    if len(variables) == 0:\n",
    "        return AIC_score(y, [y.mean()]*len(y), model, df=1)\n",
    "    return AIC_score(y, model.predict(X[variables]), model)\n",
    "\n",
    "best_model, best_variables = stepwise_selection(X.columns, train_model, score_model, verbose=True)\n",
    "\n",
    "print()\n",
    "print(f'Intercept: {best_model.intercept_:.3f}')\n",
    "print('Coefficients:')\n",
    "for name, coef in zip(best_variables, best_model.coef_):\n",
    "    print(f\" {name}: {coef}\")\n",
    "    \n",
    "\n",
    "\n",
    "#  * Bedrooms의 계수가 음수인 것을 볼 수 있다.\n",
    "# => 침실 개수를 늘릴수록 그 가치가 감소한다.\n",
    "# => 집이 클수록 침실이 더 많은 경향이 있으며, 침실 수보다는 주택의 크기가 주택 가격에 더 큰 영향을 준다.\n",
    "#    똑같은 크기의 두 집이 있다고 하면, 작은 크기의 침실이 여러 개 있는 것을 선호하지 않는 것이 합리적이다."
   ]
  },
  {
   "cell_type": "code",
   "execution_count": 17,
   "id": "67f5c7ed",
   "metadata": {},
   "outputs": [
    {
     "name": "stdout",
     "output_type": "stream",
     "text": [
      "Intercept: 4913973.344\n",
      "Coefficients:\n",
      " Bedrooms: 27150.537230219703\n",
      " BldgGrade: 248997.79366212635\n",
      " YrBuilt: -3211.7448621551157\n",
      " PropertyType_Single Family: -19898.495340501973\n",
      " PropertyType_Townhouse: -47355.436873344275\n"
     ]
    }
   ],
   "source": [
    "# Bedrooms과 상관관계가 있는 SqFtTotLiving, SqFtFinBasement, Bathrooms 제거후 계수\n",
    "\n",
    "features = ['Bedrooms', 'BldgGrade', 'PropertyType', 'YrBuilt']\n",
    "label = 'AdjSalePrice'\n",
    "\n",
    "X = pd.get_dummies(house[features], drop_first=True)\n",
    "y = house[label]\n",
    "\n",
    "reduced_lm = LinearRegression()\n",
    "reduced_lm.fit(X, y)\n",
    "\n",
    "print(f'Intercept: {reduced_lm.intercept_:.3f}')\n",
    "print('Coefficients:')\n",
    "for name, coef in zip(X.columns, reduced_lm.coef_):\n",
    "    print(f' {name}: {coef}')\n",
    "    \n",
    "# Bedrooms에 대한 계수가 양수인 것을 확인할 수 있음."
   ]
  },
  {
   "cell_type": "markdown",
   "id": "41c15921",
   "metadata": {},
   "source": [
    "## 다중공선성"
   ]
  },
  {
   "cell_type": "code",
   "execution_count": null,
   "id": "86fb9369",
   "metadata": {},
   "outputs": [],
   "source": []
  }
 ],
 "metadata": {
  "kernelspec": {
   "display_name": "Python 3 (ipykernel)",
   "language": "python",
   "name": "python3"
  },
  "language_info": {
   "codemirror_mode": {
    "name": "ipython",
    "version": 3
   },
   "file_extension": ".py",
   "mimetype": "text/x-python",
   "name": "python",
   "nbconvert_exporter": "python",
   "pygments_lexer": "ipython3",
   "version": "3.8.5"
  }
 },
 "nbformat": 4,
 "nbformat_minor": 5
}
