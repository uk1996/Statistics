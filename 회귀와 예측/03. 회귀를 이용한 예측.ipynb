{
 "cells": [
  {
   "cell_type": "markdown",
   "id": "c80d08e8",
   "metadata": {},
   "source": [
    "## 용어\n",
    "- 예측 구간(prediction interval):개별 예측값 주위의 불확실한 구간\n",
    "- 외삽법(extrapolation): 모델링에 사용된 데이터 범위를 벗어난 부분까지 모델을 확장하는것"
   ]
  },
  {
   "cell_type": "markdown",
   "id": "1a70c5a8",
   "metadata": {},
   "source": [
    "## 신뢰구간(95%)\n",
    "- 회귀계수와 예측을 둘러싼 불확실성 구간을 의미하는 신뢰구간<br><br>\n",
    "\n",
    "<절차>\n",
    "1. 각 행(결과변수를 포함)을 하나의 티켓으로 생각하고 개수가 모두 n개인 티켓을 박스에 넣었다고 가정한다.\n",
    "2. 무작위로 티켓을 뽑아 값을 기록하고 다시 박스에 넣는다.\n",
    "3. 2번 과정을 n 반복하여, 부트스트랩 재표본을 하나 만든다.\n",
    "4. 이 부트스트랩 표본을 가지고 회귀모형을 구한 후, 추정된 계수들을 기록한다.\n",
    "5. 2~4번 과정을 1000번 반복한다.\n",
    "6. 얻은 1000개의 부트스트랩 값의 각각의 계수에 대하여 2.5번째 백분위수와 97.5번째 백분위수를 찾는다."
   ]
  },
  {
   "cell_type": "markdown",
   "id": "e37d2a48",
   "metadata": {},
   "source": [
    "## 예측구간\n",
    "- 예측값의 구간<br><br>\n",
    "\n",
    "<절차>\n",
    "1. 데이터로부터 부트스트랩 표본을 뽑는다.\n",
    "2. 회귀모형을 찾고 새로운 값을 예측한다.\n",
    "3. 원래의 회귀 적합도에서 임의로 하나의 잔차를 취하여 예측값에 더하고 그 결과를 기록한다.\n",
    "4. 1~3단계를 1000번 반복\n",
    "5. 결과의 2.5번째 백분위수와 97.5번째 백분위수를 찾는다."
   ]
  }
 ],
 "metadata": {
  "kernelspec": {
   "display_name": "Python 3 (ipykernel)",
   "language": "python",
   "name": "python3"
  },
  "language_info": {
   "codemirror_mode": {
    "name": "ipython",
    "version": 3
   },
   "file_extension": ".py",
   "mimetype": "text/x-python",
   "name": "python",
   "nbconvert_exporter": "python",
   "pygments_lexer": "ipython3",
   "version": "3.8.5"
  }
 },
 "nbformat": 4,
 "nbformat_minor": 5
}
