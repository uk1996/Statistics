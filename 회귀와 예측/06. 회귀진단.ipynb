{
 "cells": [
  {
   "cell_type": "markdown",
   "id": "79af1402",
   "metadata": {},
   "source": [
    "## 용어\n",
    "- 표준화잔차(standardized residual, studentized residual): 잔차를 표준오차로 나눈 값(회귀선으로 부터 떨어진 정도를 표준오차 개수로 표현한 값)\n",
    "- 특잇값(outlier): 나머지 데이터(혹은 예측값)와 멀리 떨어진 레코드(혹은 출력값)\n",
    "- 영향값(influential values): 있을 때와 없을 때 회귀방정식이 큰 차이를 보이는 값 혹은 레코드\n",
    "- 지렛대, 레버리지(everage): 회귀식에 한 레코드가 미치는 영향력의 정도(유의어: 햇 값(hat value))\n",
    "- 비정규 잔차(non-normal residual): 정규분포를 따르지 않는 잔차는 회귀분석의 요건을 무효로 만들 수 있다. 데이터 과학에서는 별로 중요하게 다루지 않는다.\n",
    "- 이분산성(heteroskedasticity): 어떤 범위 내 출력값의 잔차가 매우 높은 분산을 보이는 경향(어떤 예측변수를 회귀식이 놓치고 있다는 것을 의미할 수 있다.)\n",
    "- 편잔차그림(partial residual plot): 결과변수와 특정 예측변수 사이의 관계를 진단하는 그림(유의어: 추가변수 그림(added variable plot))"
   ]
  },
  {
   "cell_type": "code",
   "execution_count": 49,
   "id": "9b39ac3c",
   "metadata": {},
   "outputs": [],
   "source": [
    "import pandas as pd\n",
    "import numpy as np\n",
    "\n",
    "import matplotlib.pyplot as plt\n",
    "\n",
    "import statsmodels.api as sm\n",
    "from statsmodels.stats.outliers_influence import OLSInfluence"
   ]
  },
  {
   "cell_type": "code",
   "execution_count": 69,
   "id": "96d0b9eb",
   "metadata": {},
   "outputs": [],
   "source": [
    "# 한글 폰트 설정\n",
    "plt.rc(\"font\", family='Malgun Gothic')\n",
    "\n",
    "# - 깨짐 설정\n",
    "plt.rcParams['axes.unicode_minus'] = False"
   ]
  },
  {
   "cell_type": "code",
   "execution_count": 2,
   "id": "b30b8ff0",
   "metadata": {},
   "outputs": [],
   "source": [
    "house = pd.read_csv('../../data/house_sales.csv', sep='\\t')"
   ]
  },
  {
   "cell_type": "markdown",
   "id": "86cac50f",
   "metadata": {},
   "source": [
    "## 회귀에서의 특이값(Outlier)\n",
    "- 회귀에서의 특이값은 실제 y 값이 예측된 값에서 멀리 떨어져 있는 경우를 말한다. 표준화잔차를 조사해서 특이값을 발견할 수 있다.\n",
    "- 특이값은 '부주의한' 데이터 입력 또는 단위 실수 같은 문제들 때문에 발생할 수 있다.\n",
    "- 빅데이터의 경우, 새로운 데이터를 예측하기 위한 회귀분석에서 특이값이 그렇게 문제가 되지 않는다. 그러나 특이값을 찾는 것이 주목적인 특이값 검출의 경우 이값들이 매우 중요해진다. 또한 특이값은 사기 사건이나 갑작스러운 사건 발생과도 관련이 있다."
   ]
  },
  {
   "cell_type": "code",
   "execution_count": 9,
   "id": "f0af7de1",
   "metadata": {},
   "outputs": [
    {
     "data": {
      "text/html": [
       "<table class=\"simpletable\">\n",
       "<caption>OLS Regression Results</caption>\n",
       "<tr>\n",
       "  <th>Dep. Variable:</th>      <td>AdjSalePrice</td>   <th>  R-squared:         </th> <td>   0.795</td> \n",
       "</tr>\n",
       "<tr>\n",
       "  <th>Model:</th>                   <td>OLS</td>       <th>  Adj. R-squared:    </th> <td>   0.792</td> \n",
       "</tr>\n",
       "<tr>\n",
       "  <th>Method:</th>             <td>Least Squares</td>  <th>  F-statistic:       </th> <td>   238.7</td> \n",
       "</tr>\n",
       "<tr>\n",
       "  <th>Date:</th>             <td>Mon, 13 Dec 2021</td> <th>  Prob (F-statistic):</th> <td>1.69e-103</td>\n",
       "</tr>\n",
       "<tr>\n",
       "  <th>Time:</th>                 <td>11:55:21</td>     <th>  Log-Likelihood:    </th> <td> -4226.0</td> \n",
       "</tr>\n",
       "<tr>\n",
       "  <th>No. Observations:</th>      <td>   313</td>      <th>  AIC:               </th> <td>   8464.</td> \n",
       "</tr>\n",
       "<tr>\n",
       "  <th>Df Residuals:</th>          <td>   307</td>      <th>  BIC:               </th> <td>   8486.</td> \n",
       "</tr>\n",
       "<tr>\n",
       "  <th>Df Model:</th>              <td>     5</td>      <th>                     </th>     <td> </td>    \n",
       "</tr>\n",
       "<tr>\n",
       "  <th>Covariance Type:</th>      <td>nonrobust</td>    <th>                     </th>     <td> </td>    \n",
       "</tr>\n",
       "</table>\n",
       "<table class=\"simpletable\">\n",
       "<tr>\n",
       "        <td></td>           <th>coef</th>     <th>std err</th>      <th>t</th>      <th>P>|t|</th>  <th>[0.025</th>    <th>0.975]</th>  \n",
       "</tr>\n",
       "<tr>\n",
       "  <th>SqFtTotLiving</th> <td>  209.6023</td> <td>   24.408</td> <td>    8.587</td> <td> 0.000</td> <td>  161.574</td> <td>  257.631</td>\n",
       "</tr>\n",
       "<tr>\n",
       "  <th>SqFtLot</th>       <td>   38.9333</td> <td>    5.330</td> <td>    7.305</td> <td> 0.000</td> <td>   28.445</td> <td>   49.421</td>\n",
       "</tr>\n",
       "<tr>\n",
       "  <th>Bathrooms</th>     <td> 2282.2641</td> <td>    2e+04</td> <td>    0.114</td> <td> 0.909</td> <td> -3.7e+04</td> <td> 4.16e+04</td>\n",
       "</tr>\n",
       "<tr>\n",
       "  <th>Bedrooms</th>      <td>-2.632e+04</td> <td> 1.29e+04</td> <td>   -2.043</td> <td> 0.042</td> <td>-5.17e+04</td> <td> -973.867</td>\n",
       "</tr>\n",
       "<tr>\n",
       "  <th>BldgGrade</th>     <td>   1.3e+05</td> <td> 1.52e+04</td> <td>    8.533</td> <td> 0.000</td> <td>    1e+05</td> <td>  1.6e+05</td>\n",
       "</tr>\n",
       "<tr>\n",
       "  <th>const</th>         <td>-7.725e+05</td> <td> 9.83e+04</td> <td>   -7.861</td> <td> 0.000</td> <td>-9.66e+05</td> <td>-5.79e+05</td>\n",
       "</tr>\n",
       "</table>\n",
       "<table class=\"simpletable\">\n",
       "<tr>\n",
       "  <th>Omnibus:</th>       <td>82.127</td> <th>  Durbin-Watson:     </th> <td>   1.508</td> \n",
       "</tr>\n",
       "<tr>\n",
       "  <th>Prob(Omnibus):</th> <td> 0.000</td> <th>  Jarque-Bera (JB):  </th> <td> 586.561</td> \n",
       "</tr>\n",
       "<tr>\n",
       "  <th>Skew:</th>          <td> 0.859</td> <th>  Prob(JB):          </th> <td>4.26e-128</td>\n",
       "</tr>\n",
       "<tr>\n",
       "  <th>Kurtosis:</th>      <td> 9.483</td> <th>  Cond. No.          </th> <td>5.63e+04</td> \n",
       "</tr>\n",
       "</table><br/><br/>Notes:<br/>[1] Standard Errors assume that the covariance matrix of the errors is correctly specified.<br/>[2] The condition number is large, 5.63e+04. This might indicate that there are<br/>strong multicollinearity or other numerical problems."
      ],
      "text/plain": [
       "<class 'statsmodels.iolib.summary.Summary'>\n",
       "\"\"\"\n",
       "                            OLS Regression Results                            \n",
       "==============================================================================\n",
       "Dep. Variable:           AdjSalePrice   R-squared:                       0.795\n",
       "Model:                            OLS   Adj. R-squared:                  0.792\n",
       "Method:                 Least Squares   F-statistic:                     238.7\n",
       "Date:                Mon, 13 Dec 2021   Prob (F-statistic):          1.69e-103\n",
       "Time:                        11:55:21   Log-Likelihood:                -4226.0\n",
       "No. Observations:                 313   AIC:                             8464.\n",
       "Df Residuals:                     307   BIC:                             8486.\n",
       "Df Model:                           5                                         \n",
       "Covariance Type:            nonrobust                                         \n",
       "=================================================================================\n",
       "                    coef    std err          t      P>|t|      [0.025      0.975]\n",
       "---------------------------------------------------------------------------------\n",
       "SqFtTotLiving   209.6023     24.408      8.587      0.000     161.574     257.631\n",
       "SqFtLot          38.9333      5.330      7.305      0.000      28.445      49.421\n",
       "Bathrooms      2282.2641      2e+04      0.114      0.909    -3.7e+04    4.16e+04\n",
       "Bedrooms      -2.632e+04   1.29e+04     -2.043      0.042   -5.17e+04    -973.867\n",
       "BldgGrade        1.3e+05   1.52e+04      8.533      0.000       1e+05     1.6e+05\n",
       "const         -7.725e+05   9.83e+04     -7.861      0.000   -9.66e+05   -5.79e+05\n",
       "==============================================================================\n",
       "Omnibus:                       82.127   Durbin-Watson:                   1.508\n",
       "Prob(Omnibus):                  0.000   Jarque-Bera (JB):              586.561\n",
       "Skew:                           0.859   Prob(JB):                    4.26e-128\n",
       "Kurtosis:                       9.483   Cond. No.                     5.63e+04\n",
       "==============================================================================\n",
       "\n",
       "Notes:\n",
       "[1] Standard Errors assume that the covariance matrix of the errors is correctly specified.\n",
       "[2] The condition number is large, 5.63e+04. This might indicate that there are\n",
       "strong multicollinearity or other numerical problems.\n",
       "\"\"\""
      ]
     },
     "execution_count": 9,
     "metadata": {},
     "output_type": "execute_result"
    }
   ],
   "source": [
    "# 우편번호가 98105인 데이터만 가지고 회귀\n",
    "house_98105 = house.loc[house['ZipCode'] == 98105, :]\n",
    "\n",
    "features = ['SqFtTotLiving', 'SqFtLot', 'Bathrooms', 'Bedrooms', 'BldgGrade']\n",
    "label = 'AdjSalePrice'\n",
    "\n",
    "house_outlier = sm.OLS(house_98105[label], house_98105[features].assign(const=1))\n",
    "result_98105 = house_outlier.fit()\n",
    "result_98105.summary()"
   ]
  },
  {
   "cell_type": "code",
   "execution_count": 40,
   "id": "c9813182",
   "metadata": {},
   "outputs": [
    {
     "name": "stdout",
     "output_type": "stream",
     "text": [
      "1036    -456062.232432\n",
      "1769    -158145.203415\n",
      "1770     -62978.327751\n",
      "1771    -186794.017568\n",
      "1783     -99686.534518\n",
      "             ...      \n",
      "26628     15171.804483\n",
      "26629    -96919.956869\n",
      "26630    -62899.873474\n",
      "26631     -8661.168054\n",
      "26632   -261156.728401\n",
      "Length: 313, dtype: float64\n",
      "\n",
      "잔차 최소값: -757753.6192115835\n",
      "잔차 최대값: 953910.5988086322\n"
     ]
    }
   ],
   "source": [
    "# 잔차\n",
    "print(result_98105.resid)\n",
    "\n",
    "# 잔차 최소값, 최대값\n",
    "print(f\"\\n잔차 최소값: {result_98105.resid.min()}\")\n",
    "print(f\"잔차 최대값: {result_98105.resid.max()}\")"
   ]
  },
  {
   "cell_type": "code",
   "execution_count": 42,
   "id": "b6bdb9da",
   "metadata": {},
   "outputs": [
    {
     "name": "stdout",
     "output_type": "stream",
     "text": [
      "표준오차: 177058.37685818496\n",
      "\n",
      "표준화잔차 최소값:-4.326731804078567, 인덱스: 24333\n",
      "표준화잔차 최대값:5.408104585689673, 인덱스: 14392\n"
     ]
    }
   ],
   "source": [
    "# 표준화잔차\n",
    "influence = OLSInfluence(result_98105)\n",
    "sresiduals = influence.resid_studentized_internal\n",
    "\n",
    "print(f\"표준오차: {result_98105.resid.std()}\\n\")\n",
    "\n",
    "print(f\"표준화잔차 최소값:{sresiduals.min()}, 인덱스: {sresiduals.idxmin()}\") # 표준오차의 4배 만큼 회귀식과 차이를 보임\n",
    "print(f\"표준화잔차 최대값:{sresiduals.max()}, 인덱스: {sresiduals.idxmax()}\") # 표준오차의 5배 만큼 회귀식과 차이를 보임"
   ]
  },
  {
   "cell_type": "code",
   "execution_count": 45,
   "id": "2ce0c444",
   "metadata": {},
   "outputs": [
    {
     "name": "stdout",
     "output_type": "stream",
     "text": [
      "AdjSalePrice 119748.0\n",
      "SqFtTotLiving    2900\n",
      "SqFtLot          7276\n",
      "Bathrooms         3.0\n",
      "Bedrooms            6\n",
      "BldgGrade           7\n",
      "Name: 24333, dtype: object\n"
     ]
    }
   ],
   "source": [
    "# 표준화잔차 최소값의 레코드\n",
    "outlier = house_98105.loc[sresiduals.idxmin(), :]\n",
    "print('AdjSalePrice', outlier[label])\n",
    "print(outlier[features])"
   ]
  },
  {
   "cell_type": "markdown",
   "id": "1d1a1035",
   "metadata": {},
   "source": [
    "## 영향값(Infilential values)\n",
    "- 회귀모형에서 제외됐을 때 모델에 중요한 변화를 가져오는 값(레코드)을 주영항관측값(influential observation)이라고 한다.\n",
    "- 회귀분석에서, 잔차가 크다고 해서 모두 이런 값이 되는 것은 아니다.\n",
    "- 회귀모형을 구하는 목적이 새로 들어오는 값(레코드)에 대해 믿을 만한 예측값을 얻기 위함이라면, 데이터의 크기가 작을 경우에만 영향력이 큰 관측 데이터를 확인하는 작업이 유용하다. 데이터 수가 클 경우, 어떤 한 값이 회귀방정식에 엄청난 변화를 가져오기란 쉽지 않다(회귀 결과 여전히 특이값들이 존재한다 하더라도). 물론 이상 검출이 목적이라면 영향력이 높은 값들을 찾는 것이 큰 도움이 된다."
   ]
  },
  {
   "cell_type": "code",
   "execution_count": 130,
   "id": "13caaa5c",
   "metadata": {},
   "outputs": [
    {
     "data": {
      "image/png": "[encoded data removed]",
      "text/plain": [
       "<Figure size 576x360 with 1 Axes>"
      ]
     },
     "metadata": {
      "needs_background": "light"
     },
     "output_type": "display_data"
    }
   ],
   "source": [
    "from scipy.stats import linregress\n",
    "\n",
    "np.random.seed(5)\n",
    "x = np.random.normal(size=25)\n",
    "y = -x / 5 + np.random.normal(size=25)\n",
    "x[0] = 8\n",
    "y[0] = 8\n",
    "\n",
    "def abline(slope, intercept, ax):\n",
    "    \"\"\"Calculate coordinates of a line based on slope and intercept\"\"\"\n",
    "    x_vals = np.array(ax.get_xlim())\n",
    "    return (x_vals, intercept + slope * x_vals)\n",
    "\n",
    "fig, ax = plt.subplots(figsize=(8, 5))\n",
    "ax.scatter(x.max(), y.max(), color='y', s=300, facecolor='white')\n",
    "ax.scatter(x, y, color='black')\n",
    "ax.text(x.max(), y.max()-0.3, s='회귀에 대하여 높은 레버리지를 가지는 값', va='top', ha='left')\n",
    "slope, intercept, _, _, _ = linregress(x, y)\n",
    "ax.plot(*abline(slope, intercept, ax), color='purple')\n",
    "ax.text(2, 1.58, s='모든 데이터를 고려한 회귀선', va='top', ha='left')\n",
    "slope, intercept, _, _, _ = linregress(x[1:], y[1:])\n",
    "ax.plot(*abline(slope, intercept, ax), color='red', linestyle='--')\n",
    "ax.text(4, -1.5, s='오른쪽 위의 한 점을 제거했을 때의 회귀선', va='top', ha='right')\n",
    "ax.set_xlim(-2.5, 8.5)\n",
    "ax.set_ylim(-2.5, 8.5)\n",
    "\n",
    "fig.tight_layout()\n",
    "plt.show()"
   ]
  },
  {
   "cell_type": "code",
   "execution_count": 199,
   "id": "4555f5ab",
   "metadata": {},
   "outputs": [
    {
     "data": {
      "image/png": "[encoded data removed]",
      "text/plain": [
       "<Figure size 360x360 with 1 Axes>"
      ]
     },
     "metadata": {
      "needs_background": "light"
     },
     "output_type": "display_data"
    }
   ],
   "source": [
    "# 햇값(hat value): 레버리지를 측정하는 일반적인 척도, 2(P+1)/n 이상의 값들은 레버리지가 높은 데이터 값을 나타냄\n",
    "# 쿡의거리(Cook's distance): 레버리지와 잔차의 크기를 합쳐서 영향력을 판단, 4/(n-P-1)보다 크면 영향력이 높다고 봄\n",
    "# 영향력그림(influence plot), 거품그림(bubble plot): 표준화잔차, 햇값, 쿡의 거리를 모두 한 그림에 표현\n",
    "# P: 사용된 변수의 수, n:데이터 개수\n",
    "\n",
    "influence = OLSInfluence(result_98105)\n",
    "\n",
    "fig, ax = plt.subplots(figsize=(5, 5))\n",
    "ax.axhline(-2.5, linestyle='--', color='red')\n",
    "ax.axhline(2.5, linestyle='--', color='red')\n",
    "for iloc_idx in range(len(house_98105)):\n",
    "    hat_value = influence.hat_matrix_diag[iloc_idx]\n",
    "    st_residual = influence.resid_studentized_internal.iloc[iloc_idx]\n",
    "    cooks_distance = influence.cooks_distance[0].iloc[iloc_idx]\n",
    "    if cooks_distance > 0.08:\n",
    "        ax.scatter(hat_value, st_residual,\n",
    "                  s=1000*np.sqrt(cooks_distance),\n",
    "                  facecolor='gray', edgecolor='black', alpha=0.7)\n",
    "    else:\n",
    "        ax.scatter(hat_value, st_residual,\n",
    "                  s=1000*np.sqrt(cooks_distance),\n",
    "                  facecolor='white', edgecolor='black', alpha=0.5)\n",
    "        pass\n",
    "ax.set_xlabel('hat values', fontsize=12)\n",
    "ax.set_ylabel('studentized residual', fontsize=12)\n",
    "xlim = ax.get_xlim()\n",
    "ax.text(xlim[1]+0.01, 4, s=' x축: hatvalue\\n y축: 표준화잔차\\n 원의 크기: 쿡의 거리(>0.08이면 회색으로 강조 표시)',\n",
    "        va='center', ha='left', fontsize=12)\n",
    "\n",
    "\n",
    "plt.show()"
   ]
  },
  {
   "cell_type": "code",
   "execution_count": 205,
   "id": "0cb77a88",
   "metadata": {},
   "outputs": [
    {
     "data": {
      "text/html": [
       "<div>\n",
       "<style scoped>\n",
       "    .dataframe tbody tr th:only-of-type {\n",
       "        vertical-align: middle;\n",
       "    }\n",
       "\n",
       "    .dataframe tbody tr th {\n",
       "        vertical-align: top;\n",
       "    }\n",
       "\n",
       "    .dataframe thead th {\n",
       "        text-align: right;\n",
       "    }\n",
       "</style>\n",
       "<table border=\"1\" class=\"dataframe\">\n",
       "  <thead>\n",
       "    <tr style=\"text-align: right;\">\n",
       "      <th></th>\n",
       "      <th>Original</th>\n",
       "      <th>Influential removed</th>\n",
       "    </tr>\n",
       "  </thead>\n",
       "  <tbody>\n",
       "    <tr>\n",
       "      <th>SqFtTotLiving</th>\n",
       "      <td>209.602346</td>\n",
       "      <td>230.052569</td>\n",
       "    </tr>\n",
       "    <tr>\n",
       "      <th>SqFtLot</th>\n",
       "      <td>38.933315</td>\n",
       "      <td>33.141600</td>\n",
       "    </tr>\n",
       "    <tr>\n",
       "      <th>Bathrooms</th>\n",
       "      <td>2282.264145</td>\n",
       "      <td>-16131.879785</td>\n",
       "    </tr>\n",
       "    <tr>\n",
       "      <th>Bedrooms</th>\n",
       "      <td>-26320.268796</td>\n",
       "      <td>-22887.865318</td>\n",
       "    </tr>\n",
       "    <tr>\n",
       "      <th>BldgGrade</th>\n",
       "      <td>130000.099737</td>\n",
       "      <td>114870.559737</td>\n",
       "    </tr>\n",
       "    <tr>\n",
       "      <th>const</th>\n",
       "      <td>-772549.862447</td>\n",
       "      <td>-647137.096716</td>\n",
       "    </tr>\n",
       "  </tbody>\n",
       "</table>\n",
       "</div>"
      ],
      "text/plain": [
       "                    Original  Influential removed\n",
       "SqFtTotLiving     209.602346           230.052569\n",
       "SqFtLot            38.933315            33.141600\n",
       "Bathrooms        2282.264145        -16131.879785\n",
       "Bedrooms       -26320.268796        -22887.865318\n",
       "BldgGrade      130000.099737        114870.559737\n",
       "const         -772549.862447       -647137.096716"
      ]
     },
     "execution_count": 205,
     "metadata": {},
     "output_type": "execute_result"
    }
   ],
   "source": [
    "# 전체 레코드를 사용한것과, 영향값이 큰 레코드들을 제거한 것의 회귀 계수 비교\n",
    "mask = [dist < 0.08 for dist in influence.cooks_distance[0]]\n",
    "house_infl = house_98105.loc[mask] # 쿡의 거리가 0.08보다 큰 레코드 제거(위에서 회색으로 된 6개)\n",
    "\n",
    "ols_infl = sm.OLS(house_infl[label], house_infl[features].assign(const=1))\n",
    "result_infl = ols_infl.fit()\n",
    "\n",
    "pd.DataFrame({\n",
    "    'Original': result_98105.params,\n",
    "    'Influential removed': result_infl.params,\n",
    "})\n",
    "\n",
    "# Bathrooms의 계수가 크게 변하는 것을 볼 수 있다."
   ]
  },
  {
   "cell_type": "markdown",
   "id": "523c9a36",
   "metadata": {},
   "source": [
    "## 이분산성(Heteroskedasticity), 비정규성(Non-Normality), 오차 간 상관(Correlated Errors)\n",
    "- 보통 최소제곱추정은 다양한 분포 가정하에서 편향성도 없고 경우에 따라 '최적'이라고 할 수 있는 추정을 제공한다. 즉, 대부분의 문제에서 데이터 과학자라면 잔차 분포에 너무 많은 신경을 쓸 필요는 없다.\n",
    "- 데이터 과학자가 신경 쓰는 것 한 가지는, 잔차에 대한 가정을 기반으로 신뢰구간을 구하는 계산하는 방법이다."
   ]
  }
 ],
 "metadata": {
  "kernelspec": {
   "display_name": "Python 3 (ipykernel)",
   "language": "python",
   "name": "python3"
  },
  "language_info": {
   "codemirror_mode": {
    "name": "ipython",
    "version": 3
   },
   "file_extension": ".py",
   "mimetype": "text/x-python",
   "name": "python",
   "nbconvert_exporter": "python",
   "pygments_lexer": "ipython3",
   "version": "3.8.5"
  }
 },
 "nbformat": 4,
 "nbformat_minor": 5
}
