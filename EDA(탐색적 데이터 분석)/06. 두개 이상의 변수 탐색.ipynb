{
 "cells": [
  {
   "cell_type": "markdown",
   "id": "9ee88a61",
   "metadata": {},
   "source": [
    "- 일변량 분석(univariate analysis): 한번에 하나의 변수\n",
    "- 이변량 분석(bivariate analysis): 두 변수\n",
    "- 다변량 분석(multivariate analysis): 셋 이상의 변수"
   ]
  },
  {
   "cell_type": "code",
   "execution_count": 1,
   "id": "579ba2e5",
   "metadata": {},
   "outputs": [],
   "source": [
    "import pandas as pd"
   ]
  },
  {
   "cell_type": "code",
   "execution_count": null,
   "id": "9521edb8",
   "metadata": {},
   "outputs": [],
   "source": []
  }
 ],
 "metadata": {
  "kernelspec": {
   "display_name": "Python 3 (ipykernel)",
   "language": "python",
   "name": "python3"
  },
  "language_info": {
   "codemirror_mode": {
    "name": "ipython",
    "version": 3
   },
   "file_extension": ".py",
   "mimetype": "text/x-python",
   "name": "python",
   "nbconvert_exporter": "python",
   "pygments_lexer": "ipython3",
   "version": "3.8.5"
  }
 },
 "nbformat": 4,
 "nbformat_minor": 5
}
