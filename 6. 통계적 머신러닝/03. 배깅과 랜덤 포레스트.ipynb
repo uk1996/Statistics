{
 "cells": [
  {
   "cell_type": "markdown",
   "id": "7ccc11a6",
   "metadata": {},
   "source": [
    "## 용어\n",
    "- 앙상블(ensemble): 여러 모델의 집합을 이용해서 하나의 예측을 이끌어내는 방식\n",
    "- 배깅(bagging): 데이터를 부트스트래핑해서 여러 모델을 만드는 일반적인 방법\n",
    "- 랜덤 포레스트(random forest): 의사 결정 트리 모델에 기반을 둔 배깅 추정 모델\n",
    "- 변수 중요도(variable importance): 모델 성능에 미치는 예측 변수의 중요도"
   ]
  },
  {
   "cell_type": "code",
   "execution_count": 23,
   "id": "7766381e",
   "metadata": {},
   "outputs": [],
   "source": [
    "import pandas as pd\n",
    "from sklearn.ensemble import RandomForestClassifier\n",
    "\n",
    "import matplotlib.pyplot as plt\n",
    "\n",
    "import warnings\n",
    "warnings.filterwarnings('ignore')"
   ]
  },
  {
   "cell_type": "code",
   "execution_count": 17,
   "id": "d6adf8ca",
   "metadata": {},
   "outputs": [],
   "source": [
    "loan3000 = pd.read_csv('../../data/loan3000.csv', index_col=0)"
   ]
  },
  {
   "cell_type": "code",
   "execution_count": 18,
   "id": "e5988db4",
   "metadata": {},
   "outputs": [
    {
     "data": {
      "text/html": [
       "<div>\n",
       "<style scoped>\n",
       "    .dataframe tbody tr th:only-of-type {\n",
       "        vertical-align: middle;\n",
       "    }\n",
       "\n",
       "    .dataframe tbody tr th {\n",
       "        vertical-align: top;\n",
       "    }\n",
       "\n",
       "    .dataframe thead th {\n",
       "        text-align: right;\n",
       "    }\n",
       "</style>\n",
       "<table border=\"1\" class=\"dataframe\">\n",
       "  <thead>\n",
       "    <tr style=\"text-align: right;\">\n",
       "      <th></th>\n",
       "      <th>outcome</th>\n",
       "      <th>purpose_</th>\n",
       "      <th>dti</th>\n",
       "      <th>borrower_score</th>\n",
       "      <th>payment_inc_ratio</th>\n",
       "    </tr>\n",
       "  </thead>\n",
       "  <tbody>\n",
       "    <tr>\n",
       "      <th>32109</th>\n",
       "      <td>paid off</td>\n",
       "      <td>debt_consolidation</td>\n",
       "      <td>21.23</td>\n",
       "      <td>0.40</td>\n",
       "      <td>5.11135</td>\n",
       "    </tr>\n",
       "    <tr>\n",
       "      <th>16982</th>\n",
       "      <td>default</td>\n",
       "      <td>credit_card</td>\n",
       "      <td>15.49</td>\n",
       "      <td>0.40</td>\n",
       "      <td>5.43165</td>\n",
       "    </tr>\n",
       "    <tr>\n",
       "      <th>25335</th>\n",
       "      <td>paid off</td>\n",
       "      <td>debt_consolidation</td>\n",
       "      <td>27.30</td>\n",
       "      <td>0.70</td>\n",
       "      <td>9.23003</td>\n",
       "    </tr>\n",
       "    <tr>\n",
       "      <th>34580</th>\n",
       "      <td>paid off</td>\n",
       "      <td>major_purchase</td>\n",
       "      <td>21.11</td>\n",
       "      <td>0.40</td>\n",
       "      <td>2.33482</td>\n",
       "    </tr>\n",
       "    <tr>\n",
       "      <th>14424</th>\n",
       "      <td>default</td>\n",
       "      <td>debt_consolidation</td>\n",
       "      <td>16.46</td>\n",
       "      <td>0.45</td>\n",
       "      <td>12.10320</td>\n",
       "    </tr>\n",
       "    <tr>\n",
       "      <th>...</th>\n",
       "      <td>...</td>\n",
       "      <td>...</td>\n",
       "      <td>...</td>\n",
       "      <td>...</td>\n",
       "      <td>...</td>\n",
       "    </tr>\n",
       "    <tr>\n",
       "      <th>36589</th>\n",
       "      <td>paid off</td>\n",
       "      <td>debt_consolidation</td>\n",
       "      <td>13.30</td>\n",
       "      <td>0.50</td>\n",
       "      <td>18.36620</td>\n",
       "    </tr>\n",
       "    <tr>\n",
       "      <th>43889</th>\n",
       "      <td>paid off</td>\n",
       "      <td>other</td>\n",
       "      <td>6.09</td>\n",
       "      <td>0.60</td>\n",
       "      <td>1.80421</td>\n",
       "    </tr>\n",
       "    <tr>\n",
       "      <th>7219</th>\n",
       "      <td>default</td>\n",
       "      <td>debt_consolidation</td>\n",
       "      <td>16.13</td>\n",
       "      <td>0.20</td>\n",
       "      <td>15.42180</td>\n",
       "    </tr>\n",
       "    <tr>\n",
       "      <th>8987</th>\n",
       "      <td>default</td>\n",
       "      <td>debt_consolidation</td>\n",
       "      <td>18.39</td>\n",
       "      <td>0.45</td>\n",
       "      <td>8.92335</td>\n",
       "    </tr>\n",
       "    <tr>\n",
       "      <th>11117</th>\n",
       "      <td>default</td>\n",
       "      <td>credit_card</td>\n",
       "      <td>26.67</td>\n",
       "      <td>0.40</td>\n",
       "      <td>12.88190</td>\n",
       "    </tr>\n",
       "  </tbody>\n",
       "</table>\n",
       "<p>3000 rows × 5 columns</p>\n",
       "</div>"
      ],
      "text/plain": [
       "        outcome            purpose_    dti  borrower_score  payment_inc_ratio\n",
       "32109  paid off  debt_consolidation  21.23            0.40            5.11135\n",
       "16982   default         credit_card  15.49            0.40            5.43165\n",
       "25335  paid off  debt_consolidation  27.30            0.70            9.23003\n",
       "34580  paid off      major_purchase  21.11            0.40            2.33482\n",
       "14424   default  debt_consolidation  16.46            0.45           12.10320\n",
       "...         ...                 ...    ...             ...                ...\n",
       "36589  paid off  debt_consolidation  13.30            0.50           18.36620\n",
       "43889  paid off               other   6.09            0.60            1.80421\n",
       "7219    default  debt_consolidation  16.13            0.20           15.42180\n",
       "8987    default  debt_consolidation  18.39            0.45            8.92335\n",
       "11117   default         credit_card  26.67            0.40           12.88190\n",
       "\n",
       "[3000 rows x 5 columns]"
      ]
     },
     "execution_count": 18,
     "metadata": {},
     "output_type": "execute_result"
    }
   ],
   "source": [
    "loan3000"
   ]
  },
  {
   "cell_type": "markdown",
   "id": "cff4de37",
   "metadata": {},
   "source": [
    "## 랜덤 포레스트\n",
    "- 레코드를 표본 추출할때, 변수 역시 샘플링한다\n",
    "- 알고리즘의 각 단계마다, 고를 수 있는 변수가 랜덤하게 결정된 전체 변수들의 부분집합에 한정된다.\n",
    "- 보통 전체 변수의 개수가 P일때 root(P)개 정도의 변수를 샘플링"
   ]
  },
  {
   "cell_type": "code",
   "execution_count": 20,
   "id": "5f7303dd",
   "metadata": {},
   "outputs": [
    {
     "name": "stdout",
     "output_type": "stream",
     "text": [
      "[[0.18131868 0.81868132]\n",
      " [0.26704545 0.73295455]\n",
      " [0.93333333 0.06666667]\n",
      " ...\n",
      " [1.         0.        ]\n",
      " [0.73157895 0.26842105]\n",
      " [0.68085106 0.31914894]]\n"
     ]
    }
   ],
   "source": [
    "features = ['borrower_score', 'payment_inc_ratio']\n",
    "label = 'outcome'\n",
    "\n",
    "X = loan3000[features]\n",
    "y = loan3000[label]\n",
    "\n",
    "rf = RandomForestClassifier(n_estimators=500, random_state=1, \n",
    "                           oob_score=True) # OOB(out-of-bag) 추정 에러는 트리 모델을 만들 때 사용했던 학습 데이터에 속하지 않는 데이터를 사용해 구한, 학습된 모델의 오차율을 말한다\n",
    "rf.fit(X, y)\n",
    "print(rf.oob_decision_function_)"
   ]
  },
  {
   "cell_type": "code",
   "execution_count": 25,
   "id": "e83f3ecc",
   "metadata": {},
   "outputs": [
    {
     "data": {
      "image/png": "[encoded data removed]",
      "text/plain": [
       "<Figure size 432x288 with 1 Axes>"
      ]
     },
     "metadata": {
      "needs_background": "light"
     },
     "output_type": "display_data"
    }
   ],
   "source": [
    "n_estimator = list(range(20, 510, 5))\n",
    "oobScores = []\n",
    "for n in n_estimator:\n",
    "    rf = RandomForestClassifier(n_estimators=n, \n",
    "                                criterion='entropy', max_depth=5,\n",
    "                                random_state=1, oob_score=True)\n",
    "    rf.fit(X, y)\n",
    "    oobScores.append(rf.oob_score_)\n",
    "    \n",
    "pd.DataFrame({\n",
    "    'num_trees': n_estimator, \n",
    "    'oobScore': oobScores\n",
    "}).plot(x='num_trees', y='oobScore')\n",
    "\n",
    "plt.show()"
   ]
  }
 ],
 "metadata": {
  "kernelspec": {
   "display_name": "Python 3 (ipykernel)",
   "language": "python",
   "name": "python3"
  },
  "language_info": {
   "codemirror_mode": {
    "name": "ipython",
    "version": 3
   },
   "file_extension": ".py",
   "mimetype": "text/x-python",
   "name": "python",
   "nbconvert_exporter": "python",
   "pygments_lexer": "ipython3",
   "version": "3.8.5"
  }
 },
 "nbformat": 4,
 "nbformat_minor": 5
}
