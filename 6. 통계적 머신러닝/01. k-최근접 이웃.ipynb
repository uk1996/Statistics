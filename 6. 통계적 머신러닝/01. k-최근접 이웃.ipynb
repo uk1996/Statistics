{
 "cells": [
  {
   "cell_type": "markdown",
   "id": "fadf91a8",
   "metadata": {},
   "source": [
    "## k-최근접 이웃(K-Nearest Neighbors)\n",
    "1. 특징들이 가장 유사한(즉, 예측변수들이 유사한) k개의 레코드를 찾는다.<br>\n",
    "- 분류: 이 유사한 레코드들 중에 다수가 속한 클래스가 무엇인지 찾은 후에 새로운 레코드를 그 클래스에 할당\n",
    "- 회귀: 유사한 레코드들의 평균을 찾아서 새로운 레코드에 대한 예측값으로 사용한다."
   ]
  },
  {
   "cell_type": "markdown",
   "id": "545cd2f1",
   "metadata": {},
   "source": [
    "## 용어\n",
    "- 이웃(neighbor): 예측변수에서 값들이 유사한 레코드\n",
    "- 거리 지표(distance metric): 각 레코드 사이가 얼마나 멀리 떨어져 있는지를 나타내는 단일 값\n",
    "- 표준화(standardization): 평균을 뺀 후에 표준편차로 나누는 일(유의어: 정규화)\n",
    "- z 점수(z-score): 표준화를 통해 얻은 값\n",
    "- k: 최근접 이웃을 계산하는데 사용되는 이웃의 개수"
   ]
  },
  {
   "cell_type": "code",
   "execution_count": 14,
   "id": "59aa5aff",
   "metadata": {},
   "outputs": [],
   "source": [
    "import pandas as pd\n",
    "\n",
    "from sklearn.neighbors import KNeighborsClassifier\n",
    "\n",
    "import warnings\n",
    "warnings.filterwarnings('ignore')"
   ]
  },
  {
   "cell_type": "markdown",
   "id": "2c4715da",
   "metadata": {},
   "source": [
    " ## 대출 연체 예측"
   ]
  },
  {
   "cell_type": "code",
   "execution_count": 15,
   "id": "7f16fb44",
   "metadata": {},
   "outputs": [
    {
     "name": "stdout",
     "output_type": "stream",
     "text": [
      "[[0.45 0.55]]\n"
     ]
    }
   ],
   "source": [
    "loan200 = pd.read_csv('../../data/loan200.csv')\n",
    "\n",
    "features = ['payment_inc_ratio', 'dti']\n",
    "label = 'outcome'\n",
    "\n",
    "newloan = loan200.loc[0:0, features]\n",
    "X = loan200.loc[1:, features]\n",
    "y = loan200.loc[1:, label]\n",
    "\n",
    "knn = KNeighborsClassifier(n_neighbors=20)\n",
    "knn.fit(X, y)\n",
    "knn.predict(newloan)\n",
    "print(knn.predict_proba(newloan))"
   ]
  }
 ],
 "metadata": {
  "kernelspec": {
   "display_name": "Python 3 (ipykernel)",
   "language": "python",
   "name": "python3"
  },
  "language_info": {
   "codemirror_mode": {
    "name": "ipython",
    "version": 3
   },
   "file_extension": ".py",
   "mimetype": "text/x-python",
   "name": "python",
   "nbconvert_exporter": "python",
   "pygments_lexer": "ipython3",
   "version": "3.8.5"
  }
 },
 "nbformat": 4,
 "nbformat_minor": 5
}
