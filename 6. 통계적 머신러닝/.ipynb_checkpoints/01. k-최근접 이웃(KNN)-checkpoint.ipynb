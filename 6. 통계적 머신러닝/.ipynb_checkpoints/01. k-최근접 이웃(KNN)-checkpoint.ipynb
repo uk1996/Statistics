{
 "cells": [
  {
   "cell_type": "markdown",
   "id": "0036e8b2",
   "metadata": {},
   "source": [
    "## k-최근접 이웃(K-Nearest Neighbors)\n",
    "1. 특징들이 가장 유사한(즉, 예측변수들이 유사한) k개의 레코드를 찾는다.<br>\n",
    "- 분류: 이 유사한 레코드들 중에 다수가 속한 클래스가 무엇인지 찾은 후에 새로운 레코드를 그 클래스에 할당\n",
    "- 회귀: 유사한 레코드들의 평균을 찾아서 새로운 레코드에 대한 예측값으로 사용한다.\n",
    "- 모든 예측변수는 수치형이어야 한다."
   ]
  },
  {
   "cell_type": "markdown",
   "id": "99e307ef",
   "metadata": {},
   "source": [
    "## 용어\n",
    "- 이웃(neighbor): 예측변수에서 값들이 유사한 레코드\n",
    "- 거리 지표(distance metric): 각 레코드 사이가 얼마나 멀리 떨어져 있는지를 나타내는 단일 값\n",
    "- 표준화(standardization): 평균을 뺀 후에 표준편차로 나누는 일(유의어: 정규화)\n",
    "- z 점수(z-score): 표준화를 통해 얻은 값\n",
    "- k: 최근접 이웃을 계산하는데 사용되는 이웃의 개수"
   ]
  },
  {
   "cell_type": "code",
   "execution_count": 39,
   "id": "ec884711",
   "metadata": {},
   "outputs": [],
   "source": [
    "import pandas as pd\n",
    "import numpy as np\n",
    "\n",
    "import matplotlib.pyplot as plt\n",
    "from matplotlib.patches import Ellipse\n",
    "import seaborn as sns\n",
    "\n",
    "from sklearn.neighbors import KNeighborsClassifier\n",
    "\n",
    "import warnings\n",
    "warnings.filterwarnings('ignore')"
   ]
  },
  {
   "cell_type": "markdown",
   "id": "2646db89",
   "metadata": {},
   "source": [
    " ## 대출 연체 예측"
   ]
  },
  {
   "cell_type": "code",
   "execution_count": 17,
   "id": "921ff11f",
   "metadata": {},
   "outputs": [],
   "source": [
    "loan200 = pd.read_csv('../../data/loan200.csv')"
   ]
  },
  {
   "cell_type": "code",
   "execution_count": 18,
   "id": "fd1c421a",
   "metadata": {},
   "outputs": [
    {
     "data": {
      "text/html": [
       "<div>\n",
       "<style scoped>\n",
       "    .dataframe tbody tr th:only-of-type {\n",
       "        vertical-align: middle;\n",
       "    }\n",
       "\n",
       "    .dataframe tbody tr th {\n",
       "        vertical-align: top;\n",
       "    }\n",
       "\n",
       "    .dataframe thead th {\n",
       "        text-align: right;\n",
       "    }\n",
       "</style>\n",
       "<table border=\"1\" class=\"dataframe\">\n",
       "  <thead>\n",
       "    <tr style=\"text-align: right;\">\n",
       "      <th></th>\n",
       "      <th>outcome</th>\n",
       "      <th>payment_inc_ratio</th>\n",
       "      <th>dti</th>\n",
       "    </tr>\n",
       "  </thead>\n",
       "  <tbody>\n",
       "    <tr>\n",
       "      <th>0</th>\n",
       "      <td>target</td>\n",
       "      <td>9.00000</td>\n",
       "      <td>22.50</td>\n",
       "    </tr>\n",
       "    <tr>\n",
       "      <th>1</th>\n",
       "      <td>default</td>\n",
       "      <td>5.46933</td>\n",
       "      <td>21.33</td>\n",
       "    </tr>\n",
       "    <tr>\n",
       "      <th>2</th>\n",
       "      <td>paid off</td>\n",
       "      <td>6.90294</td>\n",
       "      <td>8.97</td>\n",
       "    </tr>\n",
       "    <tr>\n",
       "      <th>3</th>\n",
       "      <td>paid off</td>\n",
       "      <td>11.14800</td>\n",
       "      <td>1.83</td>\n",
       "    </tr>\n",
       "    <tr>\n",
       "      <th>4</th>\n",
       "      <td>default</td>\n",
       "      <td>3.72120</td>\n",
       "      <td>10.81</td>\n",
       "    </tr>\n",
       "    <tr>\n",
       "      <th>...</th>\n",
       "      <td>...</td>\n",
       "      <td>...</td>\n",
       "      <td>...</td>\n",
       "    </tr>\n",
       "    <tr>\n",
       "      <th>196</th>\n",
       "      <td>default</td>\n",
       "      <td>11.66300</td>\n",
       "      <td>26.09</td>\n",
       "    </tr>\n",
       "    <tr>\n",
       "      <th>197</th>\n",
       "      <td>default</td>\n",
       "      <td>2.97641</td>\n",
       "      <td>16.41</td>\n",
       "    </tr>\n",
       "    <tr>\n",
       "      <th>198</th>\n",
       "      <td>default</td>\n",
       "      <td>1.96846</td>\n",
       "      <td>19.98</td>\n",
       "    </tr>\n",
       "    <tr>\n",
       "      <th>199</th>\n",
       "      <td>paid off</td>\n",
       "      <td>9.64200</td>\n",
       "      <td>20.17</td>\n",
       "    </tr>\n",
       "    <tr>\n",
       "      <th>200</th>\n",
       "      <td>paid off</td>\n",
       "      <td>7.03924</td>\n",
       "      <td>13.88</td>\n",
       "    </tr>\n",
       "  </tbody>\n",
       "</table>\n",
       "<p>201 rows × 3 columns</p>\n",
       "</div>"
      ],
      "text/plain": [
       "      outcome  payment_inc_ratio    dti\n",
       "0      target            9.00000  22.50\n",
       "1     default            5.46933  21.33\n",
       "2    paid off            6.90294   8.97\n",
       "3    paid off           11.14800   1.83\n",
       "4     default            3.72120  10.81\n",
       "..        ...                ...    ...\n",
       "196   default           11.66300  26.09\n",
       "197   default            2.97641  16.41\n",
       "198   default            1.96846  19.98\n",
       "199  paid off            9.64200  20.17\n",
       "200  paid off            7.03924  13.88\n",
       "\n",
       "[201 rows x 3 columns]"
      ]
     },
     "execution_count": 18,
     "metadata": {},
     "output_type": "execute_result"
    }
   ],
   "source": [
    "loan200"
   ]
  },
  {
   "cell_type": "code",
   "execution_count": 19,
   "id": "c2f4d84f",
   "metadata": {},
   "outputs": [
    {
     "name": "stdout",
     "output_type": "stream",
     "text": [
      "[[0.45 0.55]]\n"
     ]
    }
   ],
   "source": [
    "# 새로운 데이터에 대한 예측 확률\n",
    "features = ['payment_inc_ratio', 'dti']\n",
    "label = 'outcome'\n",
    "\n",
    "newloan = loan200.loc[0:0, features]\n",
    "X = loan200.loc[1:, features]\n",
    "y = loan200.loc[1:, label]\n",
    "\n",
    "knn = KNeighborsClassifier(n_neighbors=20)\n",
    "knn.fit(X, y)\n",
    "knn.predict(newloan)\n",
    "print(knn.predict_proba(newloan))"
   ]
  },
  {
   "cell_type": "code",
   "execution_count": 44,
   "id": "87890647",
   "metadata": {},
   "outputs": [
    {
     "data": {
      "image/png": "[encoded data removed]",
      "text/plain": [
       "<Figure size 288x288 with 1 Axes>"
      ]
     },
     "metadata": {
      "needs_background": "light"
     },
     "output_type": "display_data"
    }
   ],
   "source": [
    "nbrs = knn.kneighbors(newloan)\n",
    "maxDistance = np.max(nbrs[0][0])\n",
    "\n",
    "fig, ax = plt.subplots(figsize=(4, 4))\n",
    "sns.scatterplot(x='payment_inc_ratio', y='dti', style='outcome', \n",
    "                hue='outcome', data=loan200, alpha=0.3, ax=ax)\n",
    "sns.scatterplot(x='payment_inc_ratio', y='dti', style='outcome', \n",
    "                hue='outcome', \n",
    "                data=pd.concat([loan200.loc[0:0, :], loan200.loc[nbrs[1][0] + 1,:]]), \n",
    "                ax=ax, legend=False)\n",
    "ellipse = Ellipse(xy=newloan.values[0], \n",
    "                  width=2 * maxDistance, height=2 * maxDistance,\n",
    "                  edgecolor='black', fc='None', lw=1)\n",
    "ax.add_patch(ellipse)\n",
    "ax.set_xlim(3, 16)\n",
    "ax.set_ylim(15, 30)\n",
    "ax.legend(bbox_to_anchor=(1, 1), loc='upper left')\n",
    "\n",
    "plt.show()"
   ]
  },
  {
   "cell_type": "markdown",
   "id": "4a00686f",
   "metadata": {},
   "source": [
    "## KNN을 통한 피쳐 엔지니어링\n",
    "- KNN의 결과를 다시 학습 데이터로 새로운 피쳐로 사용"
   ]
  },
  {
   "cell_type": "code",
   "execution_count": 48,
   "id": "45a94244",
   "metadata": {},
   "outputs": [
    {
     "data": {
      "text/plain": [
       "0        0.35\n",
       "1        0.20\n",
       "2        0.40\n",
       "3        0.50\n",
       "4        0.45\n",
       "         ... \n",
       "45337    0.65\n",
       "45338    0.50\n",
       "45339    0.45\n",
       "45340    0.35\n",
       "45341    0.50\n",
       "Name: borrower_score, Length: 45342, dtype: float64"
      ]
     },
     "execution_count": 48,
     "metadata": {},
     "output_type": "execute_result"
    }
   ],
   "source": [
    "loan_data = pd.read_csv('../../data/loan_data.csv')\n",
    "loan_data = loan_data.drop(columns=['Unnamed: 0', 'status'])\n",
    "loan_data['outcome'] = pd.Categorical(loan_data['outcome'], \n",
    "                                      categories=['paid off', 'default'], \n",
    "                                      ordered=True)\n",
    "\n",
    "predictors = ['dti', 'revol_bal', 'revol_util', 'open_acc', \n",
    "              'delinq_2yrs_zero', 'pub_rec_zero']\n",
    "outcome = 'outcome'\n",
    "\n",
    "X = loan_data[predictors]\n",
    "y = loan_data[outcome]\n",
    "\n",
    "knn = KNeighborsClassifier(n_neighbors=20)\n",
    "knn.fit(X, y)\n",
    "\n",
    "\n",
    "loan_data['borrower_score'] = knn.predict_proba(X)[:, 0]\n",
    "loan_data['borrower_score']"
   ]
  }
 ],
 "metadata": {
  "kernelspec": {
   "display_name": "Python 3 (ipykernel)",
   "language": "python",
   "name": "python3"
  },
  "language_info": {
   "codemirror_mode": {
    "name": "ipython",
    "version": 3
   },
   "file_extension": ".py",
   "mimetype": "text/x-python",
   "name": "python",
   "nbconvert_exporter": "python",
   "pygments_lexer": "ipython3",
   "version": "3.8.5"
  }
 },
 "nbformat": 4,
 "nbformat_minor": 5
}
