{
 "cells": [
  {
   "cell_type": "markdown",
   "id": "450e3421",
   "metadata": {},
   "source": [
    "## 용어\n",
    "- p값(p-value): 귀무가설을 구체화한 기회 모델이 주어졌을 때 관측된 결과와 같이 특이하거나 극단적인 결과를 얻을 확률\n",
    "- 유의수준(alpha): 실제 결과가 통계적으로 의미 있는 것으로 간주되기 위해서, 우연에 의한 결과가 능가해야 '비정상적인' 가능성의 임계 확률\n",
    "- 제 1종 오류: 우연에 의한 효과를 실제 효과라고 잘못 결론 내리는 것\n",
    "- 제 2종 오류:  실제 효과를 우연에 의한 효과라고 잘못 결론 내리는 것"
   ]
  },
  {
   "cell_type": "markdown",
   "id": "dc132c30",
   "metadata": {},
   "source": [
    "##  p값"
   ]
  },
  {
   "cell_type": "code",
   "execution_count": 1,
   "id": "41cac586",
   "metadata": {},
   "outputs": [],
   "source": [
    "import pandas as pd\n",
    "import numpy as np\n",
    "from scipy import stats\n",
    "import random\n",
    "import matplotlib.pyplot as plt\n",
    "import seaborn as sns"
   ]
  },
  {
   "cell_type": "code",
   "execution_count": 2,
   "id": "fb8e44fe",
   "metadata": {},
   "outputs": [
    {
     "data": {
      "image/png": "[encoded data removed]",
      "text/plain": [
       "<Figure size 360x360 with 1 Axes>"
      ]
     },
     "metadata": {
      "needs_background": "light"
     },
     "output_type": "display_data"
    }
   ],
   "source": [
    "# 순열 검정\n",
    "t_A = 23739 # 가격 A를 사용한 전체 사람수\n",
    "c_A = 200 # 가격 A를 사용한 사람중 전환한 사람의수\n",
    "t_B = 22588\n",
    "c_B = 182\n",
    "\n",
    "# 두 가격의 전환률 차이\n",
    "obs_pct_diff = 100*(c_A/t_A - c_B/t_B)\n",
    "\n",
    "conversion = [0]*(t_A+t_B-c_A-c_B)\n",
    "conversion = conversion + [1]*(c_A+c_B)\n",
    "conversion = pd.Series(conversion)\n",
    "\n",
    "def perm_fun(x, nA, nB):\n",
    "    n = nA + nB\n",
    "    idx_B = set(random.sample(range(n), nB)) # 비복원 추출\n",
    "    idx_A = set(range(n)) - idx_B\n",
    "    return x.loc[idx_B].mean() - x.loc[idx_A].mean()\n",
    "\n",
    "perm_diffs = [100*perm_fun(conversion, t_A, t_B) for _ in range(1000)]\n",
    "fig, ax = plt.subplots(figsize=(5, 5))\n",
    "sns.histplot(data=perm_diffs, ax=ax)\n",
    "ax.axvline(x=obs_pct_diff, color='black', linewidth=2)\n",
    "ax.text((obs_pct_diff)*1.5, 120, s='Observed\\ndifference', va='top', bbox={'facecolor':'white'})\n",
    "ax.set_xlabel('Conversion rate (percent)')\n",
    "ax.set_ylabel('Frequency')\n",
    "\n",
    "plt.tight_layout()\n",
    "plt.show()"
   ]
  },
  {
   "cell_type": "code",
   "execution_count": 3,
   "id": "20a17d90",
   "metadata": {},
   "outputs": [
    {
     "data": {
      "text/plain": [
       "0.315"
      ]
     },
     "execution_count": 3,
     "metadata": {},
     "output_type": "execute_result"
    }
   ],
   "source": [
    "# p값(우연히 얻은 결과가 실제 관측된 결과보다 크거나 같을 확률)\n",
    "np.mean([diff > obs_pct_diff for diff in perm_diffs])"
   ]
  },
  {
   "cell_type": "code",
   "execution_count": 4,
   "id": "60e6319b",
   "metadata": {},
   "outputs": [
    {
     "name": "stdout",
     "output_type": "stream",
     "text": [
      "p-value for single sided test: 0.3498\n"
     ]
    }
   ],
   "source": [
    "# 가설이 이항분포를 따르기 때문에 p값 근사 가능(정규근사법)\n",
    "chi2, p_value, df, _ = stats.chi2_contingency([[c_A, t_A-c_A], [c_B, t_B-c_B]])\n",
    "\n",
    "print(f'p-value for single sided test: {p_value / 2:.4f}') # 2를 나눠주는것은 단측 검정이기 때문에"
   ]
  }
 ],
 "metadata": {
  "kernelspec": {
   "display_name": "Python 3 (ipykernel)",
   "language": "python",
   "name": "python3"
  },
  "language_info": {
   "codemirror_mode": {
    "name": "ipython",
    "version": 3
   },
   "file_extension": ".py",
   "mimetype": "text/x-python",
   "name": "python",
   "nbconvert_exporter": "python",
   "pygments_lexer": "ipython3",
   "version": "3.8.5"
  }
 },
 "nbformat": 4,
 "nbformat_minor": 5
}
