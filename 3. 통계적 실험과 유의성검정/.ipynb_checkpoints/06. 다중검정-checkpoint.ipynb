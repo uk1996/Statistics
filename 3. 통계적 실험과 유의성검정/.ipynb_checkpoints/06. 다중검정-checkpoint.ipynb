{
 "cells": [
  {
   "cell_type": "markdown",
   "id": "5b20b6e6",
   "metadata": {},
   "source": [
    "## 용어\n",
    "- 거짓 발견 비율(FDR): 다중검점에서 1종 오류가 발생하는 비율\n",
    "- 알파 인플레이션(alpha inflation): 1종 오류를 만들 확률인 알파가 더 많은 테스트를 수행할수록 증가하는 다중검정 현상\n",
    "- p값 조정(adjustment of p-value): 동일한 데이터에 대해 다중검정을 수행하는 경우에 필요\n",
    "- 과대적합(overfitting): 잡음까지 피팅"
   ]
  },
  {
   "cell_type": "markdown",
   "id": "6be791e5",
   "metadata": {},
   "source": [
    "## 다중검정\n",
    "- 연구 조사나 데이터 마이닝 프로젝트에서 다중성(다중비교, 많은 비교, 많은 모델 등)은 일부가 우연히 유의미하다는 결론을 내릴 위험을 증가시킨다\n",
    "- 여러 통계 비교(즉, 여러우의성검정)와 관련된 상황의 경우 통계적 수정 절차가 필요\n",
    "- 데이터 마이닝에서, 라벨이 지정된 결과변수가 있는(즉 분류 결과를 알고 있는) 홀드아웃 표본을 사용하면 잘못된 결과를 피할 수 있다."
   ]
  }
 ],
 "metadata": {
  "kernelspec": {
   "display_name": "Python 3 (ipykernel)",
   "language": "python",
   "name": "python3"
  },
  "language_info": {
   "codemirror_mode": {
    "name": "ipython",
    "version": 3
   },
   "file_extension": ".py",
   "mimetype": "text/x-python",
   "name": "python",
   "nbconvert_exporter": "python",
   "pygments_lexer": "ipython3",
   "version": "3.8.5"
  }
 },
 "nbformat": 4,
 "nbformat_minor": 5
}
