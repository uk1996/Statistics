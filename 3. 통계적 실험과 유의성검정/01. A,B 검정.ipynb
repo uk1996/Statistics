{
 "cells": [
  {
   "cell_type": "markdown",
   "id": "a0170ce0",
   "metadata": {},
   "source": [
    "# A/B 검정\n",
    "- 두 가지 처리 방법, 제품, 절차 중 어느 쪽이 다른 쪽보다 더 우월하다는 것을 입증하기 위해 실험군을 두 그룹으로 나누어 진행하는 실험"
   ]
  },
  {
   "cell_type": "markdown",
   "id": "3d00eeab",
   "metadata": {},
   "source": [
    "## 용어\n",
    "- 처리(treatment): 어떤 대상에 주어지는 특별한 환경이나 조건(약, 가격, 인터넷 뉴스 제목)\n",
    "- 처리군(treatment group): 특정 처리에 노출된 대상들의 집단\n",
    "- 대조군(control group): 어떤 처리도 하지 않은 대상들의 집단\n",
    "- 임의화, 랜덤화(randomization): 처리를 적용할 대상을 임의로 결정하는 과정\n",
    "- 대상(subject): 처리를 적용할 개체 대상(피실험자)\n",
    "- 검정통계량(test statistic): 처리 효과를 측정하기 위한 지표"
   ]
  },
  {
   "cell_type": "markdown",
   "id": "8d5bf3dd",
   "metadata": {},
   "source": [
    "## 대조군이 필요한 이유\n",
    "- 대조군이 없다면 '모든 다른 것들은 동일하다'는 보장이 없으며 어떠 차이가 처리 때문인지 확신할 수 없다.\n",
    "- 대조군의 경우, 관심 처리를 뺀 나머지는 처리군과 동일한 조건이 적용\n",
    "- 단순히 '기준선' 또는 이전 경험과 비교할 경우, 처리 이외의 다른 요소가 다를 수도 있다."
   ]
  }
 ],
 "metadata": {
  "kernelspec": {
   "display_name": "Python 3 (ipykernel)",
   "language": "python",
   "name": "python3"
  },
  "language_info": {
   "codemirror_mode": {
    "name": "ipython",
    "version": 3
   },
   "file_extension": ".py",
   "mimetype": "text/x-python",
   "name": "python",
   "nbconvert_exporter": "python",
   "pygments_lexer": "ipython3",
   "version": "3.8.5"
  }
 },
 "nbformat": 4,
 "nbformat_minor": 5
}
