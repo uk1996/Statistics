{
 "cells": [
  {
   "cell_type": "markdown",
   "id": "63bcdf44",
   "metadata": {},
   "source": [
    "## 용어\n",
    "- 검정통계량(test statistic): 관심의 차이 또는 효과에 대한 측정 지표\n",
    "- t 통계량(t-statistic): 평균과 같이 표준화된 형태의 일반적인 검정통계량\n",
    "- t 분포(t-distribution): 관측된 t 통계량을 비교할 수 있는, (귀무가설에서 파생된)기준분포"
   ]
  },
  {
   "cell_type": "code",
   "execution_count": 1,
   "id": "ea6c823a",
   "metadata": {},
   "outputs": [],
   "source": [
    "import pandas as pd\n",
    "import numpy as np\n",
    "from scipy import stats\n",
    "import random\n",
    "import matplotlib.pyplot as plt\n",
    "import seaborn as sns"
   ]
  },
  {
   "cell_type": "code",
   "execution_count": 2,
   "id": "f361a7b1",
   "metadata": {},
   "outputs": [],
   "source": [
    "session_times = pd.read_csv('../../data/web_page_data.csv')"
   ]
  },
  {
   "cell_type": "code",
   "execution_count": 3,
   "id": "562bbd77",
   "metadata": {},
   "outputs": [
    {
     "data": {
      "text/html": [
       "<div>\n",
       "<style scoped>\n",
       "    .dataframe tbody tr th:only-of-type {\n",
       "        vertical-align: middle;\n",
       "    }\n",
       "\n",
       "    .dataframe tbody tr th {\n",
       "        vertical-align: top;\n",
       "    }\n",
       "\n",
       "    .dataframe thead th {\n",
       "        text-align: right;\n",
       "    }\n",
       "</style>\n",
       "<table border=\"1\" class=\"dataframe\">\n",
       "  <thead>\n",
       "    <tr style=\"text-align: right;\">\n",
       "      <th></th>\n",
       "      <th>Page</th>\n",
       "      <th>Time</th>\n",
       "    </tr>\n",
       "  </thead>\n",
       "  <tbody>\n",
       "    <tr>\n",
       "      <th>0</th>\n",
       "      <td>Page A</td>\n",
       "      <td>0.21</td>\n",
       "    </tr>\n",
       "    <tr>\n",
       "      <th>1</th>\n",
       "      <td>Page B</td>\n",
       "      <td>2.53</td>\n",
       "    </tr>\n",
       "    <tr>\n",
       "      <th>2</th>\n",
       "      <td>Page A</td>\n",
       "      <td>0.35</td>\n",
       "    </tr>\n",
       "    <tr>\n",
       "      <th>3</th>\n",
       "      <td>Page B</td>\n",
       "      <td>0.71</td>\n",
       "    </tr>\n",
       "    <tr>\n",
       "      <th>4</th>\n",
       "      <td>Page A</td>\n",
       "      <td>0.67</td>\n",
       "    </tr>\n",
       "  </tbody>\n",
       "</table>\n",
       "</div>"
      ],
      "text/plain": [
       "     Page  Time\n",
       "0  Page A  0.21\n",
       "1  Page B  2.53\n",
       "2  Page A  0.35\n",
       "3  Page B  0.71\n",
       "4  Page A  0.67"
      ]
     },
     "execution_count": 3,
     "metadata": {},
     "output_type": "execute_result"
    }
   ],
   "source": [
    "session_times.head()"
   ]
  },
  {
   "cell_type": "code",
   "execution_count": 4,
   "id": "8c9084fe",
   "metadata": {},
   "outputs": [
    {
     "data": {
      "text/plain": [
       "1.2633333333333332"
      ]
     },
     "execution_count": 4,
     "metadata": {},
     "output_type": "execute_result"
    }
   ],
   "source": [
    "mean_a = session_times[session_times['Page'] == 'Page A']['Time'].mean()\n",
    "mean_a"
   ]
  },
  {
   "cell_type": "code",
   "execution_count": 5,
   "id": "09c3eea9",
   "metadata": {},
   "outputs": [
    {
     "data": {
      "text/plain": [
       "1.62"
      ]
     },
     "execution_count": 5,
     "metadata": {},
     "output_type": "execute_result"
    }
   ],
   "source": [
    "mean_b = session_times[session_times['Page'] == 'Page B']['Time'].mean()\n",
    "mean_b"
   ]
  },
  {
   "cell_type": "markdown",
   "id": "793e7466",
   "metadata": {},
   "source": [
    "## t 검정(t-Tests)"
   ]
  },
  {
   "cell_type": "code",
   "execution_count": 6,
   "id": "555c471c",
   "metadata": {},
   "outputs": [
    {
     "name": "stdout",
     "output_type": "stream",
     "text": [
      "p-value for single sided test: 0.1408\n"
     ]
    }
   ],
   "source": [
    "res = stats.ttest_ind(session_times[session_times['Page'] == 'Page A']['Time'],\n",
    "                     session_times[session_times['Page'] == 'Page B']['Time'],\n",
    "                     equal_var=False)\n",
    "\n",
    "print(f'p-value for single sided test: {res.pvalue / 2:.4f}') # 단측 검정 이므로 2를 나눠 준다."
   ]
  },
  {
   "cell_type": "markdown",
   "id": "17d3d281",
   "metadata": {},
   "source": [
    "## 순열검정으로 p값 구하기"
   ]
  },
  {
   "cell_type": "code",
   "execution_count": 7,
   "id": "720d24e0",
   "metadata": {},
   "outputs": [
    {
     "data": {
      "image/png": "[encoded data removed]",
      "text/plain": [
       "<Figure size 360x360 with 1 Axes>"
      ]
     },
     "metadata": {
      "needs_background": "light"
     },
     "output_type": "display_data"
    }
   ],
   "source": [
    "# 순열 검정\n",
    "def perm_fun(x, nA, nB):\n",
    "    n = nA + nB\n",
    "    idx_B = set(random.sample(range(n), nB))\n",
    "    idx_A = set(range(n)) - idx_B\n",
    "    return x.loc[idx_B].mean() - x.loc[idx_A].mean()\n",
    "\n",
    "nA = len(session_times[session_times['Page'] == 'Page A'])\n",
    "nB = len(session_times[session_times['Page'] == 'Page B'])\n",
    "perm_diffs = [perm_fun(session_times['Time'], nA, nB) for _ in range(10000)]\n",
    "\n",
    "fig, ax = plt.subplots(figsize=(5, 5))\n",
    "sns.histplot(data=perm_diffs, ax=ax)\n",
    "ax.axvline(x=mean_b-mean_a, color='black', linewidth=2)\n",
    "ax.text((mean_b-mean_a)*1.5, 500, s='Observed\\ndifference', va='top', bbox={'facecolor':'white'})\n",
    "ax.set_xlabel('Session time differences (in seconds)')\n",
    "ax.set_ylabel('Frequency')\n",
    "\n",
    "plt.tight_layout()\n",
    "plt.show()"
   ]
  },
  {
   "cell_type": "code",
   "execution_count": 8,
   "id": "c62dd4a7",
   "metadata": {},
   "outputs": [
    {
     "data": {
      "text/plain": [
       "0.1371"
      ]
     },
     "execution_count": 8,
     "metadata": {},
     "output_type": "execute_result"
    }
   ],
   "source": [
    "# p값 => 순열검정으로 구한 p값과 t 검정으로 구한 p값이 유사하다.\n",
    "np.mean([diff > (mean_b - mean_a) for diff in perm_diffs])"
   ]
  }
 ],
 "metadata": {
  "kernelspec": {
   "display_name": "Python 3 (ipykernel)",
   "language": "python",
   "name": "python3"
  },
  "language_info": {
   "codemirror_mode": {
    "name": "ipython",
    "version": 3
   },
   "file_extension": ".py",
   "mimetype": "text/x-python",
   "name": "python",
   "nbconvert_exporter": "python",
   "pygments_lexer": "ipython3",
   "version": "3.8.5"
  }
 },
 "nbformat": 4,
 "nbformat_minor": 5
}
