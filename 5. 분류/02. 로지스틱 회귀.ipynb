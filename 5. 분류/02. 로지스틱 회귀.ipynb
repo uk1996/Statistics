{
 "cells": [
  {
   "cell_type": "markdown",
   "id": "513b9699",
   "metadata": {},
   "source": [
    "## 용어\n",
    "- 로짓(logit): (0~1이 아니라)±∞의 범위에서 어떤 클래스에 속할 확률을 결정하는 함수(유의어: 로그 오즈)\n",
    "- 오즈(odds): '실패(0)'에 대한 '성공(1)'의 비율\n",
    "- 로그 오즈(log odds): 변환 모델(선형)의 응답변수. 이 값을 통해 확률을 구한다."
   ]
  },
  {
   "cell_type": "markdown",
   "id": "8547f4ef",
   "metadata": {},
   "source": [
    "## 로지스틱 회귀(Logistic Regression)"
   ]
  },
  {
   "cell_type": "code",
   "execution_count": null,
   "id": "9da7e22b",
   "metadata": {},
   "outputs": [],
   "source": []
  }
 ],
 "metadata": {
  "kernelspec": {
   "display_name": "Python 3 (ipykernel)",
   "language": "python",
   "name": "python3"
  },
  "language_info": {
   "codemirror_mode": {
    "name": "ipython",
    "version": 3
   },
   "file_extension": ".py",
   "mimetype": "text/x-python",
   "name": "python",
   "nbconvert_exporter": "python",
   "pygments_lexer": "ipython3",
   "version": "3.8.5"
  }
 },
 "nbformat": 4,
 "nbformat_minor": 5
}
