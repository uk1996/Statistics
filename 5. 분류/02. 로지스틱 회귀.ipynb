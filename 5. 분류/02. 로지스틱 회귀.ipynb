{
 "cells": [
  {
   "cell_type": "markdown",
   "id": "513b9699",
   "metadata": {},
   "source": [
    "## 용어\n",
    "- 로짓(logit): (0~1이 아니라)±∞의 범위에서 어떤 클래스에 속할 확률을 결정하는 함수(유의어: 로그 오즈)\n",
    "- 오즈(odds): '실패(0)'에 대한 '성공(1)'의 비율\n",
    "- 로그 오즈(log odds): 변환 모델(선형)의 응답변수. 이 값을 통해 확률을 구한다."
   ]
  },
  {
   "cell_type": "markdown",
   "id": "abf6d451",
   "metadata": {},
   "source": [
    "## 로지스틱 회귀(Logistic Regression)\n",
    "- 데이터 위주의 접근 방식이라기보다, 구조화된 모델의 접근 방식\n",
    "- 빠른 계산 속도 및 새로운 데이터에 대한 빠른 점수 산정 덕분에 다양한 분야에서 널리 사용"
   ]
  },
  {
   "cell_type": "code",
   "execution_count": 22,
   "id": "f232a3b0",
   "metadata": {},
   "outputs": [],
   "source": [
    "import pandas as pd\n",
    "import numpy as np\n",
    "\n",
    "import matplotlib.pyplot as plt\n",
    "\n",
    "from sklearn.linear_model import LogisticRegression"
   ]
  },
  {
   "cell_type": "markdown",
   "id": "76bb2a28",
   "metadata": {},
   "source": [
    "## 로짓(logit)"
   ]
  },
  {
   "cell_type": "code",
   "execution_count": 56,
   "id": "953d2e85",
   "metadata": {},
   "outputs": [
    {
     "data": {
      "image/png": "[encoded data removed]",
      "text/plain": [
       "<Figure size 360x360 with 1 Axes>"
      ]
     },
     "metadata": {
      "needs_background": "light"
     },
     "output_type": "display_data"
    }
   ],
   "source": [
    "p = np.arange(0.01, 1, 0.01)\n",
    "df = pd.DataFrame({\n",
    "    'p': p,\n",
    "    'logit': np.log(p / (1 - p)),\n",
    "    'odds': p / (1 - p),\n",
    "})\n",
    "\n",
    "fig, ax = plt.subplots(figsize=(5, 5))\n",
    "ax.axhline(0, color='grey', linestyle='--')\n",
    "ax.axvline(0.5, color='grey', linestyle='--')\n",
    "ax.plot(df['p'], df['logit'], color='black')\n",
    "ax.set_xlabel('Probability')\n",
    "ax.set_ylabel('logit(p)')\n",
    "\n",
    "plt.tight_layout()\n",
    "plt.show()"
   ]
  },
  {
   "cell_type": "markdown",
   "id": "7dea146e",
   "metadata": {},
   "source": [
    "## 로지스틱 회귀와 GLM\n",
    "- 회귀방정식에 응답변수는 ±∞의 범위 로짓(로그 오즈 값)이지만 실제 관찰한 데이터는 로짓이 아닌 이진 출력값\n",
    "- 이 회귀방정식을 위해서는 특별한 확률 기법이 필요\n",
    "- 로지스틱 회귀는 선형회귀를 확장한 일반화선형모형(GLM)의 특별한 사례"
   ]
  },
  {
   "cell_type": "code",
   "execution_count": 14,
   "id": "22c0192c",
   "metadata": {},
   "outputs": [],
   "source": [
    "loan_data = pd.read_csv('../../data/loan_data.csv', index_col=0)"
   ]
  },
  {
   "cell_type": "code",
   "execution_count": 80,
   "id": "20117a79",
   "metadata": {},
   "outputs": [
    {
     "data": {
      "text/plain": [
       "1        0.65\n",
       "2        0.80\n",
       "3        0.60\n",
       "4        0.50\n",
       "5        0.55\n",
       "         ... \n",
       "45338    0.35\n",
       "45339    0.50\n",
       "45340    0.55\n",
       "45341    0.65\n",
       "45342    0.50\n",
       "Name: borrower_score, Length: 45342, dtype: float64"
      ]
     },
     "execution_count": 80,
     "metadata": {},
     "output_type": "execute_result"
    }
   ],
   "source": [
    "loan_data['borrower_score']"
   ]
  },
  {
   "cell_type": "code",
   "execution_count": 36,
   "id": "c77a12f6",
   "metadata": {},
   "outputs": [
    {
     "data": {
      "text/html": [
       "<div>\n",
       "<style scoped>\n",
       "    .dataframe tbody tr th:only-of-type {\n",
       "        vertical-align: middle;\n",
       "    }\n",
       "\n",
       "    .dataframe tbody tr th {\n",
       "        vertical-align: top;\n",
       "    }\n",
       "\n",
       "    .dataframe thead th {\n",
       "        text-align: right;\n",
       "    }\n",
       "</style>\n",
       "<table border=\"1\" class=\"dataframe\">\n",
       "  <thead>\n",
       "    <tr style=\"text-align: right;\">\n",
       "      <th></th>\n",
       "      <th>coeff</th>\n",
       "    </tr>\n",
       "  </thead>\n",
       "  <tbody>\n",
       "    <tr>\n",
       "      <th>payment_inc_ratio</th>\n",
       "      <td>-0.079728</td>\n",
       "    </tr>\n",
       "    <tr>\n",
       "      <th>borrower_score</th>\n",
       "      <td>4.611037</td>\n",
       "    </tr>\n",
       "    <tr>\n",
       "      <th>debt_consolidation</th>\n",
       "      <td>-0.249342</td>\n",
       "    </tr>\n",
       "    <tr>\n",
       "      <th>home_improvement</th>\n",
       "      <td>-0.407614</td>\n",
       "    </tr>\n",
       "    <tr>\n",
       "      <th>major_purchase</th>\n",
       "      <td>-0.229376</td>\n",
       "    </tr>\n",
       "    <tr>\n",
       "      <th>medical</th>\n",
       "      <td>-0.510087</td>\n",
       "    </tr>\n",
       "    <tr>\n",
       "      <th>other</th>\n",
       "      <td>-0.620534</td>\n",
       "    </tr>\n",
       "    <tr>\n",
       "      <th>small_business</th>\n",
       "      <td>-1.215662</td>\n",
       "    </tr>\n",
       "    <tr>\n",
       "      <th>OWN</th>\n",
       "      <td>-0.048453</td>\n",
       "    </tr>\n",
       "    <tr>\n",
       "      <th>RENT</th>\n",
       "      <td>-0.157355</td>\n",
       "    </tr>\n",
       "    <tr>\n",
       "      <th>&gt; 1 Year</th>\n",
       "      <td>0.357464</td>\n",
       "    </tr>\n",
       "    <tr>\n",
       "      <th>intercept</th>\n",
       "      <td>-1.638089</td>\n",
       "    </tr>\n",
       "  </tbody>\n",
       "</table>\n",
       "</div>"
      ],
      "text/plain": [
       "                       coeff\n",
       "payment_inc_ratio  -0.079728\n",
       "borrower_score      4.611037\n",
       "debt_consolidation -0.249342\n",
       "home_improvement   -0.407614\n",
       "major_purchase     -0.229376\n",
       "medical            -0.510087\n",
       "other              -0.620534\n",
       "small_business     -1.215662\n",
       "OWN                -0.048453\n",
       "RENT               -0.157355\n",
       " > 1 Year           0.357464\n",
       "intercept          -1.638089"
      ]
     },
     "execution_count": 36,
     "metadata": {},
     "output_type": "execute_result"
    }
   ],
   "source": [
    "features = ['payment_inc_ratio', 'purpose_', 'home_', 'emp_len_', 'borrower_score']\n",
    "label = 'outcome'\n",
    "\n",
    "X = pd.get_dummies(loan_data[features], prefix='', prefix_sep='', \n",
    "                   drop_first=True)\n",
    "y = loan_data[label].replace({'default':0, 'paid off':1})\n",
    "\n",
    "logit_reg = LogisticRegression(penalty='l2', # 정규화 방법\n",
    "                               C=1e42,       # 정규화 강도(C값이 낮을수록 정규화가 강화, 정규화 없이 피팅하려면 매우 큰 값으로 설정)\n",
    "                              solver='liblinear') \n",
    "logit_reg.fit(X, y)\n",
    "\n",
    "coef_df = pd.DataFrame({'coeff': logit_reg.coef_[0]}, \n",
    "             index=X.columns)\n",
    "coef_df.loc['intercept'] = logit_reg.intercept_\n",
    "coef_df"
   ]
  },
  {
   "cell_type": "markdown",
   "id": "b3c9c318",
   "metadata": {},
   "source": [
    "### 로지스틱 회귀와 예측값(Predicted Values from Logistic Regression)"
   ]
  },
  {
   "cell_type": "code",
   "execution_count": 51,
   "id": "3b0d0698",
   "metadata": {},
   "outputs": [
    {
     "data": {
      "text/html": [
       "<div>\n",
       "<style scoped>\n",
       "    .dataframe tbody tr th:only-of-type {\n",
       "        vertical-align: middle;\n",
       "    }\n",
       "\n",
       "    .dataframe tbody tr th {\n",
       "        vertical-align: top;\n",
       "    }\n",
       "\n",
       "    .dataframe thead th {\n",
       "        text-align: right;\n",
       "    }\n",
       "</style>\n",
       "<table border=\"1\" class=\"dataframe\">\n",
       "  <thead>\n",
       "    <tr style=\"text-align: right;\">\n",
       "      <th></th>\n",
       "      <th>default</th>\n",
       "      <th>paid off</th>\n",
       "    </tr>\n",
       "  </thead>\n",
       "  <tbody>\n",
       "    <tr>\n",
       "      <th>count</th>\n",
       "      <td>45342.000000</td>\n",
       "      <td>45342.000000</td>\n",
       "    </tr>\n",
       "    <tr>\n",
       "      <th>mean</th>\n",
       "      <td>-0.757850</td>\n",
       "      <td>-0.760423</td>\n",
       "    </tr>\n",
       "    <tr>\n",
       "      <th>std</th>\n",
       "      <td>0.378032</td>\n",
       "      <td>0.390419</td>\n",
       "    </tr>\n",
       "    <tr>\n",
       "      <th>min</th>\n",
       "      <td>-2.768873</td>\n",
       "      <td>-3.538865</td>\n",
       "    </tr>\n",
       "    <tr>\n",
       "      <th>25%</th>\n",
       "      <td>-0.985728</td>\n",
       "      <td>-0.977164</td>\n",
       "    </tr>\n",
       "    <tr>\n",
       "      <th>50%</th>\n",
       "      <td>-0.697366</td>\n",
       "      <td>-0.688946</td>\n",
       "    </tr>\n",
       "    <tr>\n",
       "      <th>75%</th>\n",
       "      <td>-0.472209</td>\n",
       "      <td>-0.467076</td>\n",
       "    </tr>\n",
       "    <tr>\n",
       "      <th>max</th>\n",
       "      <td>-0.029476</td>\n",
       "      <td>-0.064787</td>\n",
       "    </tr>\n",
       "  </tbody>\n",
       "</table>\n",
       "</div>"
      ],
      "text/plain": [
       "            default      paid off\n",
       "count  45342.000000  45342.000000\n",
       "mean      -0.757850     -0.760423\n",
       "std        0.378032      0.390419\n",
       "min       -2.768873     -3.538865\n",
       "25%       -0.985728     -0.977164\n",
       "50%       -0.697366     -0.688946\n",
       "75%       -0.472209     -0.467076\n",
       "max       -0.029476     -0.064787"
      ]
     },
     "execution_count": 51,
     "metadata": {},
     "output_type": "execute_result"
    }
   ],
   "source": [
    "# 로그 오즈에 관한 통계량\n",
    "pred = pd.DataFrame(logit_reg.predict_log_proba(X),\n",
    "                    columns=['default', 'paid off'])\n",
    "pred.describe()"
   ]
  },
  {
   "cell_type": "code",
   "execution_count": 53,
   "id": "f12e0ef9",
   "metadata": {},
   "outputs": [
    {
     "data": {
      "text/html": [
       "<div>\n",
       "<style scoped>\n",
       "    .dataframe tbody tr th:only-of-type {\n",
       "        vertical-align: middle;\n",
       "    }\n",
       "\n",
       "    .dataframe tbody tr th {\n",
       "        vertical-align: top;\n",
       "    }\n",
       "\n",
       "    .dataframe thead th {\n",
       "        text-align: right;\n",
       "    }\n",
       "</style>\n",
       "<table border=\"1\" class=\"dataframe\">\n",
       "  <thead>\n",
       "    <tr style=\"text-align: right;\">\n",
       "      <th></th>\n",
       "      <th>default</th>\n",
       "      <th>paid off</th>\n",
       "    </tr>\n",
       "  </thead>\n",
       "  <tbody>\n",
       "    <tr>\n",
       "      <th>count</th>\n",
       "      <td>45342.000000</td>\n",
       "      <td>45342.000000</td>\n",
       "    </tr>\n",
       "    <tr>\n",
       "      <th>mean</th>\n",
       "      <td>0.500001</td>\n",
       "      <td>0.499999</td>\n",
       "    </tr>\n",
       "    <tr>\n",
       "      <th>std</th>\n",
       "      <td>0.167336</td>\n",
       "      <td>0.167336</td>\n",
       "    </tr>\n",
       "    <tr>\n",
       "      <th>min</th>\n",
       "      <td>0.062733</td>\n",
       "      <td>0.029046</td>\n",
       "    </tr>\n",
       "    <tr>\n",
       "      <th>25%</th>\n",
       "      <td>0.373167</td>\n",
       "      <td>0.376377</td>\n",
       "    </tr>\n",
       "    <tr>\n",
       "      <th>50%</th>\n",
       "      <td>0.497895</td>\n",
       "      <td>0.502105</td>\n",
       "    </tr>\n",
       "    <tr>\n",
       "      <th>75%</th>\n",
       "      <td>0.623623</td>\n",
       "      <td>0.626833</td>\n",
       "    </tr>\n",
       "    <tr>\n",
       "      <th>max</th>\n",
       "      <td>0.970954</td>\n",
       "      <td>0.937267</td>\n",
       "    </tr>\n",
       "  </tbody>\n",
       "</table>\n",
       "</div>"
      ],
      "text/plain": [
       "            default      paid off\n",
       "count  45342.000000  45342.000000\n",
       "mean       0.500001      0.499999\n",
       "std        0.167336      0.167336\n",
       "min        0.062733      0.029046\n",
       "25%        0.373167      0.376377\n",
       "50%        0.497895      0.502105\n",
       "75%        0.623623      0.626833\n",
       "max        0.970954      0.937267"
      ]
     },
     "execution_count": 53,
     "metadata": {},
     "output_type": "execute_result"
    }
   ],
   "source": [
    "# 예측 확률에 대한 통계랑\n",
    "pred = pd.DataFrame(logit_reg.predict_proba(X),\n",
    "                    columns=['default', 'paid off'])\n",
    "pred.describe()"
   ]
  },
  {
   "cell_type": "markdown",
   "id": "f312e721",
   "metadata": {},
   "source": [
    "## 계수와 오즈비 해석"
   ]
  },
  {
   "cell_type": "code",
   "execution_count": 60,
   "id": "65bfda84",
   "metadata": {},
   "outputs": [
    {
     "data": {
      "image/png": "[encoded data removed]",
      "text/plain": [
       "<Figure size 360x360 with 1 Axes>"
      ]
     },
     "metadata": {
      "needs_background": "light"
     },
     "output_type": "display_data"
    }
   ],
   "source": [
    "# 오즈비가 1보다 클경우, 오즈비와 로그 오즈비 사이의 관계\n",
    "fig, ax = plt.subplots(figsize=(5, 5))\n",
    "ax.plot(df['logit'], df['odds'], color='black')\n",
    "ax.set_xlabel('log(odds ratio)')\n",
    "ax.set_ylabel('odds ratio')\n",
    "ax.set_xlim(0, 5.1)\n",
    "ax.set_ylim(-5, 105)\n",
    "ax.grid()\n",
    "\n",
    "plt.tight_layout()\n",
    "plt.show()"
   ]
  }
 ],
 "metadata": {
  "kernelspec": {
   "display_name": "Python 3 (ipykernel)",
   "language": "python",
   "name": "python3"
  },
  "language_info": {
   "codemirror_mode": {
    "name": "ipython",
    "version": 3
   },
   "file_extension": ".py",
   "mimetype": "text/x-python",
   "name": "python",
   "nbconvert_exporter": "python",
   "pygments_lexer": "ipython3",
   "version": "3.8.5"
  }
 },
 "nbformat": 4,
 "nbformat_minor": 5
}
