{
 "cells": [
  {
   "cell_type": "markdown",
   "id": "513b9699",
   "metadata": {},
   "source": [
    "## 용어\n",
    "- 로짓(logit): (0~1이 아니라)±∞의 범위에서 어떤 클래스에 속할 확률을 결정하는 함수(유의어: 로그 오즈)\n",
    "- 오즈(odds): '실패(0)'에 대한 '성공(1)'의 비율\n",
    "- 로그 오즈(log odds): 변환 모델(선형)의 응답변수. 이 값을 통해 확률을 구한다."
   ]
  },
  {
   "cell_type": "code",
   "execution_count": 4,
   "id": "09bda4db",
   "metadata": {},
   "outputs": [],
   "source": [
    "import pandas as pd\n",
    "import numpy as np\n",
    "\n",
    "import matplotlib.pyplot as plt"
   ]
  },
  {
   "cell_type": "markdown",
   "id": "bbd64d10",
   "metadata": {},
   "source": [
    "## 로지스틱 회귀(Logistic Regression)\n",
    "- 데이터 위주의 접근 방식이라기보다, 구조화된 모델의 접근 방식\n",
    "- 빠른 계산 속도 및 새로운 데이터에 대한 빠른 점수 산정 덕분에 다양한 분야에서 널리 사용"
   ]
  },
  {
   "cell_type": "markdown",
   "id": "14821e69",
   "metadata": {},
   "source": [
    "### 로짓(logit)"
   ]
  },
  {
   "cell_type": "code",
   "execution_count": 5,
   "id": "b8fdd07f",
   "metadata": {},
   "outputs": [
    {
     "data": {
      "image/png": "[encoded data removed]",
      "text/plain": [
       "<Figure size 216x216 with 1 Axes>"
      ]
     },
     "metadata": {
      "needs_background": "light"
     },
     "output_type": "display_data"
    }
   ],
   "source": [
    "p = np.arange(0.01, 1, 0.01)\n",
    "df = pd.DataFrame({\n",
    "    'p': p,\n",
    "    'logit': np.log(p / (1 - p)),\n",
    "    'odds': p / (1 - p),\n",
    "})\n",
    "\n",
    "fig, ax = plt.subplots(figsize=(3, 3))\n",
    "ax.axhline(0, color='grey', linestyle='--')\n",
    "ax.axvline(0.5, color='grey', linestyle='--')\n",
    "ax.plot(df['p'], df['logit'])\n",
    "ax.set_xlabel('Probability')\n",
    "ax.set_ylabel('logit(p)')\n",
    "\n",
    "plt.tight_layout()\n",
    "plt.show()"
   ]
  },
  {
   "cell_type": "code",
   "execution_count": null,
   "id": "dff54964",
   "metadata": {},
   "outputs": [],
   "source": []
  }
 ],
 "metadata": {
  "kernelspec": {
   "display_name": "Python 3 (ipykernel)",
   "language": "python",
   "name": "python3"
  },
  "language_info": {
   "codemirror_mode": {
    "name": "ipython",
    "version": 3
   },
   "file_extension": ".py",
   "mimetype": "text/x-python",
   "name": "python",
   "nbconvert_exporter": "python",
   "pygments_lexer": "ipython3",
   "version": "3.8.5"
  }
 },
 "nbformat": 4,
 "nbformat_minor": 5
}
