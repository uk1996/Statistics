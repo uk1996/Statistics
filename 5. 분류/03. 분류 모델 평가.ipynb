{
 "cells": [
  {
   "cell_type": "markdown",
   "id": "ddc02daa",
   "metadata": {},
   "source": [
    "## 용어\n",
    "- 정확도(accuracy): 정확히 분류된 비율\n",
    "- 혼동행렬(confusion matrix): 분류에서 예측된 결과와 실제 결과에 대한 레코드의 개수를 표시한 테이블\n",
    "- 민감도(sensitivity): 1을 정확히 1로 분류한 비율(유의어: 재현울(recall))\n",
    "- 특이도(specificity): 0을 정확히 0으로 분류한 비율\n",
    "- 정밀도(precision): 1이라고 예측한 것들 중에 1이 맞는 경우의 비율\n",
    "- ROC 곡선(ROC curve): 민감도와 특이성을 표현한 그림"
   ]
  },
  {
   "cell_type": "code",
   "execution_count": 1,
   "id": "3e8129ea",
   "metadata": {},
   "outputs": [],
   "source": [
    "import pandas as pd\n",
    "import numpy as np\n",
    "\n",
    "import matplotlib.pyplot as plt\n",
    "\n",
    "from sklearn.linear_model import LogisticRegression\n",
    "from sklearn.metrics import confusion_matrix, precision_score, recall_score, roc_curve"
   ]
  },
  {
   "cell_type": "code",
   "execution_count": 2,
   "id": "9aeede47",
   "metadata": {},
   "outputs": [],
   "source": [
    "loan_data = pd.read_csv('../../data/loan_data.csv', index_col=0)"
   ]
  },
  {
   "cell_type": "code",
   "execution_count": 3,
   "id": "d1538cdc",
   "metadata": {},
   "outputs": [
    {
     "data": {
      "text/plain": [
       "LogisticRegression(C=1e+42, solver='liblinear')"
      ]
     },
     "execution_count": 3,
     "metadata": {},
     "output_type": "execute_result"
    }
   ],
   "source": [
    "features = ['payment_inc_ratio', 'purpose_', 'home_', 'emp_len_', 'borrower_score']\n",
    "label = 'outcome'\n",
    "\n",
    "X = pd.get_dummies(loan_data[features], prefix='', prefix_sep='', \n",
    "                   drop_first=True)\n",
    "y = loan_data[label].replace({'paid off':0, 'default':1})\n",
    "\n",
    "logit_reg = LogisticRegression(penalty='l2', # 정규화 방법\n",
    "                               C=1e42,       # 정규화 강도(C값이 낮을수록 정규화가 강화, 정규화 없이 피팅하려면 매우 큰 값으로 설정)\n",
    "                              solver='liblinear') \n",
    "logit_reg.fit(X, y)"
   ]
  },
  {
   "cell_type": "markdown",
   "id": "ed8f3262",
   "metadata": {},
   "source": [
    "## 혼동행렬(Confusion Matrix)"
   ]
  },
  {
   "cell_type": "code",
   "execution_count": 4,
   "id": "a5a52e67",
   "metadata": {},
   "outputs": [
    {
     "name": "stdout",
     "output_type": "stream",
     "text": [
      "[[14523  8148]\n",
      " [ 8335 14336]]\n"
     ]
    }
   ],
   "source": [
    "# Confusion matrix\n",
    "pred_y = logit_reg.predict(X)\n",
    "true_y = y\n",
    "\n",
    "cm = confusion_matrix(true_y, pred_y)\n",
    "print(cm)"
   ]
  },
  {
   "cell_type": "markdown",
   "id": "913142d0",
   "metadata": {},
   "source": [
    "## 정밀도, 재현율, 특이도(Precision, Recall, and Specificity)"
   ]
  },
  {
   "cell_type": "code",
   "execution_count": 5,
   "id": "d743aa0a",
   "metadata": {},
   "outputs": [
    {
     "name": "stdout",
     "output_type": "stream",
     "text": [
      "Precision: 0.6376089663760897\n",
      "Recall: 0.6323496978518812\n",
      "Specificity: 0.6405981209474659\n"
     ]
    }
   ],
   "source": [
    "print(f\"Precision: {precision_score(true_y, pred_y)}\")\n",
    "print(f'Recall: {recall_score(true_y, pred_y)}')\n",
    "print(f'Specificity: {cm[0,0]/sum(cm[0, :])}')"
   ]
  },
  {
   "cell_type": "markdown",
   "id": "f6b7c155",
   "metadata": {},
   "source": [
    "## ROC Curve와 AUC"
   ]
  },
  {
   "cell_type": "code",
   "execution_count": 6,
   "id": "3887eacb",
   "metadata": {},
   "outputs": [
    {
     "data": {
      "image/png": "[encoded data removed]",
      "text/plain": [
       "<Figure size 360x360 with 1 Axes>"
      ]
     },
     "metadata": {
      "needs_background": "light"
     },
     "output_type": "display_data"
    }
   ],
   "source": [
    "fpr, tpr, thresholds = roc_curve(y, logit_reg.predict_proba(X)[:, 1])\n",
    "\n",
    "fig, ax = plt.subplots(figsize=(5, 5))\n",
    "\n",
    "ax.set_xlim([0, 1])\n",
    "ax.set_ylim([0, 1])\n",
    "\n",
    "ax.plot(fpr, tpr)\n",
    "ax.fill_between(fpr, tpr, alpha=0.3)\n",
    "ax.set_xlabel('1 - specificity')\n",
    "ax.set_ylabel('recall')\n",
    "\n",
    "plt.show()"
   ]
  }
 ],
 "metadata": {
  "kernelspec": {
   "display_name": "Python 3 (ipykernel)",
   "language": "python",
   "name": "python3"
  },
  "language_info": {
   "codemirror_mode": {
    "name": "ipython",
    "version": 3
   },
   "file_extension": ".py",
   "mimetype": "text/x-python",
   "name": "python",
   "nbconvert_exporter": "python",
   "pygments_lexer": "ipython3",
   "version": "3.8.5"
  }
 },
 "nbformat": 4,
 "nbformat_minor": 5
}
